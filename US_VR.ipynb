{
 "cells": [
  {
   "cell_type": "markdown",
   "metadata": {},
   "source": [
    "# Vaccination Rate US Counties"
   ]
  },
  {
   "cell_type": "code",
   "execution_count": 1,
   "metadata": {},
   "outputs": [],
   "source": [
    "import pandas as pd\n",
    "pd.set_option('display.max_rows', 10)\n",
    "folder = r'C:\\Users\\Ensheng\\Desktop\\mapping\\Data_NME\\\\'"
   ]
  },
  {
   "cell_type": "markdown",
   "metadata": {},
   "source": [
    "## New York (NY)\n",
    "\n",
    "* Sources:\n",
    "    * https://health.data.ny.gov/Health/School-Immunization-Survey-District-Level-Map-2018/xq3k-6pt2\n",
    "    * http://www.p12.nysed.gov/irs/statistics/enroll-n-staff/home.html\n",
    "    * http://www.p12.nysed.gov/irs/statistics/nonpublic/\n",
    "    "
   ]
  },
  {
   "cell_type": "markdown",
   "metadata": {},
   "source": [
    "## Illinois (IL)\n",
    "\n",
    "* Source: Immunization Status of School-Age Children in Illinois PDF\n",
    "* Ignored: Other State Funded Public Schools"
   ]
  },
  {
   "cell_type": "code",
   "execution_count": 18,
   "metadata": {},
   "outputs": [
    {
     "name": "stdout",
     "output_type": "stream",
     "text": [
      "4868\n"
     ]
    },
    {
     "data": {
      "text/html": [
       "<div>\n",
       "<style scoped>\n",
       "    .dataframe tbody tr th:only-of-type {\n",
       "        vertical-align: middle;\n",
       "    }\n",
       "\n",
       "    .dataframe tbody tr th {\n",
       "        vertical-align: top;\n",
       "    }\n",
       "\n",
       "    .dataframe thead th {\n",
       "        text-align: right;\n",
       "    }\n",
       "</style>\n",
       "<table border=\"1\" class=\"dataframe\">\n",
       "  <thead>\n",
       "    <tr style=\"text-align: right;\">\n",
       "      <th></th>\n",
       "      <th>CountyCode</th>\n",
       "      <th>Enrollment PreK-12</th>\n",
       "      <th>Vaccination Acquired</th>\n",
       "    </tr>\n",
       "  </thead>\n",
       "  <tbody>\n",
       "    <tr>\n",
       "      <th>0</th>\n",
       "      <td>1</td>\n",
       "      <td>242</td>\n",
       "      <td>242</td>\n",
       "    </tr>\n",
       "    <tr>\n",
       "      <th>1</th>\n",
       "      <td>1</td>\n",
       "      <td>319</td>\n",
       "      <td>317</td>\n",
       "    </tr>\n",
       "    <tr>\n",
       "      <th>2</th>\n",
       "      <td>1</td>\n",
       "      <td>286</td>\n",
       "      <td>286</td>\n",
       "    </tr>\n",
       "  </tbody>\n",
       "</table>\n",
       "</div>"
      ],
      "text/plain": [
       "   CountyCode  Enrollment PreK-12  Vaccination Acquired\n",
       "0           1                 242                   242\n",
       "1           1                 319                   317\n",
       "2           1                 286                   286"
      ]
     },
     "execution_count": 18,
     "metadata": {},
     "output_type": "execute_result"
    }
   ],
   "source": [
    "in_table = folder + r'IL\\measles.xlsx'\n",
    "df_il = pd.read_excel(in_table,sheet_name='measles2')\n",
    "print(len(df_il))\n",
    "df_il.head(3)"
   ]
  },
  {
   "cell_type": "code",
   "execution_count": 29,
   "metadata": {},
   "outputs": [
    {
     "name": "stdout",
     "output_type": "stream",
     "text": [
      "104\n"
     ]
    },
    {
     "data": {
      "text/html": [
       "<div>\n",
       "<style scoped>\n",
       "    .dataframe tbody tr th:only-of-type {\n",
       "        vertical-align: middle;\n",
       "    }\n",
       "\n",
       "    .dataframe tbody tr th {\n",
       "        vertical-align: top;\n",
       "    }\n",
       "\n",
       "    .dataframe thead th {\n",
       "        text-align: right;\n",
       "    }\n",
       "</style>\n",
       "<table border=\"1\" class=\"dataframe\">\n",
       "  <thead>\n",
       "    <tr style=\"text-align: right;\">\n",
       "      <th></th>\n",
       "      <th>CountyCode</th>\n",
       "      <th>County</th>\n",
       "    </tr>\n",
       "  </thead>\n",
       "  <tbody>\n",
       "    <tr>\n",
       "      <th>0</th>\n",
       "      <td>1</td>\n",
       "      <td>Adams</td>\n",
       "    </tr>\n",
       "    <tr>\n",
       "      <th>1</th>\n",
       "      <td>2</td>\n",
       "      <td>Alexander</td>\n",
       "    </tr>\n",
       "    <tr>\n",
       "      <th>2</th>\n",
       "      <td>3</td>\n",
       "      <td>Bond</td>\n",
       "    </tr>\n",
       "  </tbody>\n",
       "</table>\n",
       "</div>"
      ],
      "text/plain": [
       "   CountyCode     County\n",
       "0           1      Adams\n",
       "1           2  Alexander\n",
       "2           3       Bond"
      ]
     },
     "execution_count": 29,
     "metadata": {},
     "output_type": "execute_result"
    }
   ],
   "source": [
    "in_table = folder + r'IL\\measles.xlsx'\n",
    "df_ilcode = pd.read_excel(in_table,sheet_name='Code')\n",
    "print(len(df_ilcode))\n",
    "df_ilcode.head(3)"
   ]
  },
  {
   "cell_type": "code",
   "execution_count": 30,
   "metadata": {},
   "outputs": [
    {
     "name": "stdout",
     "output_type": "stream",
     "text": [
      "{105}\n",
      "{0}\n"
     ]
    }
   ],
   "source": [
    "# making sure all school has a convertable county code - GOOD!\n",
    "print(set(df_ilcode['CountyCode']) - set(df_il['CountyCode']))\n",
    "print(set(df_il['CountyCode']) - set(df_ilcode['CountyCode']))"
   ]
  },
  {
   "cell_type": "code",
   "execution_count": 37,
   "metadata": {
    "scrolled": false
   },
   "outputs": [
    {
     "name": "stdout",
     "output_type": "stream",
     "text": [
      "4868\n"
     ]
    },
    {
     "data": {
      "text/html": [
       "<div>\n",
       "<style scoped>\n",
       "    .dataframe tbody tr th:only-of-type {\n",
       "        vertical-align: middle;\n",
       "    }\n",
       "\n",
       "    .dataframe tbody tr th {\n",
       "        vertical-align: top;\n",
       "    }\n",
       "\n",
       "    .dataframe thead th {\n",
       "        text-align: right;\n",
       "    }\n",
       "</style>\n",
       "<table border=\"1\" class=\"dataframe\">\n",
       "  <thead>\n",
       "    <tr style=\"text-align: right;\">\n",
       "      <th></th>\n",
       "      <th>CountyCode</th>\n",
       "      <th>Enrollment PreK-12</th>\n",
       "      <th>Vaccination Acquired</th>\n",
       "      <th>County</th>\n",
       "    </tr>\n",
       "  </thead>\n",
       "  <tbody>\n",
       "    <tr>\n",
       "      <th>0</th>\n",
       "      <td>1</td>\n",
       "      <td>242</td>\n",
       "      <td>242</td>\n",
       "      <td>Adams</td>\n",
       "    </tr>\n",
       "    <tr>\n",
       "      <th>1</th>\n",
       "      <td>1</td>\n",
       "      <td>319</td>\n",
       "      <td>317</td>\n",
       "      <td>Adams</td>\n",
       "    </tr>\n",
       "    <tr>\n",
       "      <th>2</th>\n",
       "      <td>1</td>\n",
       "      <td>286</td>\n",
       "      <td>286</td>\n",
       "      <td>Adams</td>\n",
       "    </tr>\n",
       "  </tbody>\n",
       "</table>\n",
       "</div>"
      ],
      "text/plain": [
       "   CountyCode  Enrollment PreK-12  Vaccination Acquired County\n",
       "0           1                 242                   242  Adams\n",
       "1           1                 319                   317  Adams\n",
       "2           1                 286                   286  Adams"
      ]
     },
     "execution_count": 37,
     "metadata": {},
     "output_type": "execute_result"
    }
   ],
   "source": [
    "# get county name for each school\n",
    "temp = pd.merge(df_il, df_ilcode, how='left', on='CountyCode')\n",
    "print(len(temp))\n",
    "temp.head(3)"
   ]
  },
  {
   "cell_type": "code",
   "execution_count": 39,
   "metadata": {},
   "outputs": [
    {
     "name": "stdout",
     "output_type": "stream",
     "text": [
      "103\n"
     ]
    },
    {
     "data": {
      "text/html": [
       "<div>\n",
       "<style scoped>\n",
       "    .dataframe tbody tr th:only-of-type {\n",
       "        vertical-align: middle;\n",
       "    }\n",
       "\n",
       "    .dataframe tbody tr th {\n",
       "        vertical-align: top;\n",
       "    }\n",
       "\n",
       "    .dataframe thead th {\n",
       "        text-align: right;\n",
       "    }\n",
       "</style>\n",
       "<table border=\"1\" class=\"dataframe\">\n",
       "  <thead>\n",
       "    <tr style=\"text-align: right;\">\n",
       "      <th></th>\n",
       "      <th>County</th>\n",
       "      <th>Enrollment PreK-12</th>\n",
       "      <th>Vaccination Acquired</th>\n",
       "    </tr>\n",
       "  </thead>\n",
       "  <tbody>\n",
       "    <tr>\n",
       "      <th>0</th>\n",
       "      <td>Adams</td>\n",
       "      <td>10828</td>\n",
       "      <td>10717</td>\n",
       "    </tr>\n",
       "    <tr>\n",
       "      <th>1</th>\n",
       "      <td>Alexander</td>\n",
       "      <td>743</td>\n",
       "      <td>732</td>\n",
       "    </tr>\n",
       "    <tr>\n",
       "      <th>2</th>\n",
       "      <td>Bond</td>\n",
       "      <td>2209</td>\n",
       "      <td>2180</td>\n",
       "    </tr>\n",
       "  </tbody>\n",
       "</table>\n",
       "</div>"
      ],
      "text/plain": [
       "      County  Enrollment PreK-12  Vaccination Acquired\n",
       "0      Adams               10828                 10717\n",
       "1  Alexander                 743                   732\n",
       "2       Bond                2209                  2180"
      ]
     },
     "execution_count": 39,
     "metadata": {},
     "output_type": "execute_result"
    }
   ],
   "source": [
    "result = temp.groupby(['County'])['Enrollment PreK-12','Vaccination Acquired'].sum().reset_index()\n",
    "print(len(result))\n",
    "result.head(3)"
   ]
  },
  {
   "cell_type": "code",
   "execution_count": 41,
   "metadata": {},
   "outputs": [],
   "source": [
    "output_csv = folder + 'IL_NME' + '.csv'\n",
    "result.to_csv(output_csv, index=False, encoding='utf-8')"
   ]
  },
  {
   "cell_type": "markdown",
   "metadata": {},
   "source": [
    "## Michigan (MI)\n",
    "83 counties\n",
    "\n",
    "* Source: https://www.michigan.gov/documents/mdhhs/Kind_2018_Final_For_Website_663954_7.xlsx"
   ]
  },
  {
   "cell_type": "code",
   "execution_count": 3,
   "metadata": {},
   "outputs": [
    {
     "name": "stdout",
     "output_type": "stream",
     "text": [
      "2057\n"
     ]
    },
    {
     "data": {
      "text/html": [
       "<div>\n",
       "<style scoped>\n",
       "    .dataframe tbody tr th:only-of-type {\n",
       "        vertical-align: middle;\n",
       "    }\n",
       "\n",
       "    .dataframe tbody tr th {\n",
       "        vertical-align: top;\n",
       "    }\n",
       "\n",
       "    .dataframe thead th {\n",
       "        text-align: right;\n",
       "    }\n",
       "</style>\n",
       "<table border=\"1\" class=\"dataframe\">\n",
       "  <thead>\n",
       "    <tr style=\"text-align: right;\">\n",
       "      <th></th>\n",
       "      <th>NAME</th>\n",
       "      <th>DISTRICT</th>\n",
       "      <th>COUNTY</th>\n",
       "      <th>N</th>\n",
       "      <th>COMP</th>\n",
       "      <th>PCT_COMP</th>\n",
       "      <th>PROV</th>\n",
       "      <th>INCOM</th>\n",
       "    </tr>\n",
       "  </thead>\n",
       "  <tbody>\n",
       "    <tr>\n",
       "      <th>0</th>\n",
       "      <td>Alcona Elementary</td>\n",
       "      <td>Alcona Community Schools</td>\n",
       "      <td>Alcona</td>\n",
       "      <td>48</td>\n",
       "      <td>47</td>\n",
       "      <td>97.9</td>\n",
       "      <td>0</td>\n",
       "      <td>0</td>\n",
       "    </tr>\n",
       "    <tr>\n",
       "      <th>1</th>\n",
       "      <td>William G Mather Elementary School</td>\n",
       "      <td>Munising Public Schools</td>\n",
       "      <td>Alger</td>\n",
       "      <td>36</td>\n",
       "      <td>34</td>\n",
       "      <td>94.4</td>\n",
       "      <td>0</td>\n",
       "      <td>2</td>\n",
       "    </tr>\n",
       "    <tr>\n",
       "      <th>2</th>\n",
       "      <td>Superior Central School</td>\n",
       "      <td>Superior Central Schools</td>\n",
       "      <td>Alger</td>\n",
       "      <td>27</td>\n",
       "      <td>25</td>\n",
       "      <td>92.6</td>\n",
       "      <td>0</td>\n",
       "      <td>0</td>\n",
       "    </tr>\n",
       "  </tbody>\n",
       "</table>\n",
       "</div>"
      ],
      "text/plain": [
       "                                 NAME                  DISTRICT  COUNTY   N  \\\n",
       "0                   Alcona Elementary  Alcona Community Schools  Alcona  48   \n",
       "1  William G Mather Elementary School   Munising Public Schools   Alger  36   \n",
       "2             Superior Central School  Superior Central Schools   Alger  27   \n",
       "\n",
       "   COMP  PCT_COMP  PROV  INCOM  \n",
       "0    47      97.9     0      0  \n",
       "1    34      94.4     0      2  \n",
       "2    25      92.6     0      0  "
      ]
     },
     "execution_count": 3,
     "metadata": {},
     "output_type": "execute_result"
    }
   ],
   "source": [
    "in_table = folder + r'MI\\Kind_2018_Final_For_Website_663954_7.xlsx'\n",
    "df_mi = pd.read_excel(in_table,sheet_name='MI')\n",
    "print(len(df_mi))\n",
    "df_mi.head(3)"
   ]
  },
  {
   "cell_type": "code",
   "execution_count": 4,
   "metadata": {},
   "outputs": [
    {
     "name": "stdout",
     "output_type": "stream",
     "text": [
      "84\n"
     ]
    },
    {
     "data": {
      "text/html": [
       "<div>\n",
       "<style scoped>\n",
       "    .dataframe tbody tr th:only-of-type {\n",
       "        vertical-align: middle;\n",
       "    }\n",
       "\n",
       "    .dataframe tbody tr th {\n",
       "        vertical-align: top;\n",
       "    }\n",
       "\n",
       "    .dataframe thead th {\n",
       "        text-align: right;\n",
       "    }\n",
       "</style>\n",
       "<table border=\"1\" class=\"dataframe\">\n",
       "  <thead>\n",
       "    <tr style=\"text-align: right;\">\n",
       "      <th></th>\n",
       "      <th>COUNTY</th>\n",
       "      <th>N</th>\n",
       "      <th>COMP</th>\n",
       "    </tr>\n",
       "  </thead>\n",
       "  <tbody>\n",
       "    <tr>\n",
       "      <th>0</th>\n",
       "      <td>Alcona</td>\n",
       "      <td>48</td>\n",
       "      <td>47</td>\n",
       "    </tr>\n",
       "    <tr>\n",
       "      <th>1</th>\n",
       "      <td>Alger</td>\n",
       "      <td>63</td>\n",
       "      <td>59</td>\n",
       "    </tr>\n",
       "    <tr>\n",
       "      <th>2</th>\n",
       "      <td>Allegan</td>\n",
       "      <td>1504</td>\n",
       "      <td>1434</td>\n",
       "    </tr>\n",
       "  </tbody>\n",
       "</table>\n",
       "</div>"
      ],
      "text/plain": [
       "    COUNTY     N  COMP\n",
       "0   Alcona    48    47\n",
       "1    Alger    63    59\n",
       "2  Allegan  1504  1434"
      ]
     },
     "execution_count": 4,
     "metadata": {},
     "output_type": "execute_result"
    }
   ],
   "source": [
    "result = df_mi.groupby(['COUNTY'])['N','COMP'].sum().reset_index()\n",
    "print(len(result))\n",
    "result.head(3)"
   ]
  },
  {
   "cell_type": "code",
   "execution_count": 5,
   "metadata": {},
   "outputs": [],
   "source": [
    "output_csv = folder + 'MI_NME' + '.csv'\n",
    "result.to_csv(output_csv, index=False, encoding='utf-8')"
   ]
  },
  {
   "cell_type": "markdown",
   "metadata": {},
   "source": [
    "## Maine (ME)\n",
    "\n",
    "* Source: https://www.maine.gov/dhhs/mecdc/infectious-disease/immunization/publications/"
   ]
  },
  {
   "cell_type": "markdown",
   "metadata": {},
   "source": [
    "## Iowa (IA)\n",
    "99 counties\n",
    "\n",
    "* Source: ...\n",
    "* Ignore S"
   ]
  },
  {
   "cell_type": "code",
   "execution_count": 42,
   "metadata": {},
   "outputs": [
    {
     "name": "stdout",
     "output_type": "stream",
     "text": [
      "1335\n"
     ]
    },
    {
     "data": {
      "text/html": [
       "<div>\n",
       "<style scoped>\n",
       "    .dataframe tbody tr th:only-of-type {\n",
       "        vertical-align: middle;\n",
       "    }\n",
       "\n",
       "    .dataframe tbody tr th {\n",
       "        vertical-align: top;\n",
       "    }\n",
       "\n",
       "    .dataframe thead th {\n",
       "        text-align: right;\n",
       "    }\n",
       "</style>\n",
       "<table border=\"1\" class=\"dataframe\">\n",
       "  <thead>\n",
       "    <tr style=\"text-align: right;\">\n",
       "      <th></th>\n",
       "      <th>County Name</th>\n",
       "      <th>School District Number</th>\n",
       "      <th>School Name</th>\n",
       "      <th>Certificate of Immunization</th>\n",
       "      <th>Total Enrollment</th>\n",
       "      <th>Percent Vaccinated with Vaccines Required by Law</th>\n",
       "    </tr>\n",
       "  </thead>\n",
       "  <tbody>\n",
       "    <tr>\n",
       "      <th>0</th>\n",
       "      <td>Adair</td>\n",
       "      <td>2673</td>\n",
       "      <td>Nodaway Valley Elementary School</td>\n",
       "      <td>246</td>\n",
       "      <td>256</td>\n",
       "      <td>96.1</td>\n",
       "    </tr>\n",
       "    <tr>\n",
       "      <th>1</th>\n",
       "      <td>Adair</td>\n",
       "      <td>2673</td>\n",
       "      <td>Nodaway Valley High School</td>\n",
       "      <td>212</td>\n",
       "      <td>215</td>\n",
       "      <td>98.6</td>\n",
       "    </tr>\n",
       "    <tr>\n",
       "      <th>2</th>\n",
       "      <td>Adair</td>\n",
       "      <td>2673</td>\n",
       "      <td>Nodaway Valley Middle School</td>\n",
       "      <td>148</td>\n",
       "      <td>149</td>\n",
       "      <td>99.3</td>\n",
       "    </tr>\n",
       "  </tbody>\n",
       "</table>\n",
       "</div>"
      ],
      "text/plain": [
       "  County Name  School District Number                       School Name  \\\n",
       "0       Adair                    2673  Nodaway Valley Elementary School   \n",
       "1       Adair                    2673        Nodaway Valley High School   \n",
       "2       Adair                    2673      Nodaway Valley Middle School   \n",
       "\n",
       "   Certificate of Immunization  Total Enrollment  \\\n",
       "0                          246               256   \n",
       "1                          212               215   \n",
       "2                          148               149   \n",
       "\n",
       "   Percent Vaccinated with Vaccines Required by Law  \n",
       "0                                              96.1  \n",
       "1                                              98.6  \n",
       "2                                              99.3  "
      ]
     },
     "execution_count": 42,
     "metadata": {},
     "output_type": "execute_result"
    }
   ],
   "source": [
    "in_table = folder + r'IA\\2018-19 K-12 Grade Summary Report by School-converted.xlsx'\n",
    "df_ia = pd.read_excel(in_table,sheet_name='IA')\n",
    "print(len(df_ia))\n",
    "df_ia.head(3)"
   ]
  },
  {
   "cell_type": "code",
   "execution_count": 44,
   "metadata": {},
   "outputs": [
    {
     "name": "stdout",
     "output_type": "stream",
     "text": [
      "99\n"
     ]
    },
    {
     "data": {
      "text/html": [
       "<div>\n",
       "<style scoped>\n",
       "    .dataframe tbody tr th:only-of-type {\n",
       "        vertical-align: middle;\n",
       "    }\n",
       "\n",
       "    .dataframe tbody tr th {\n",
       "        vertical-align: top;\n",
       "    }\n",
       "\n",
       "    .dataframe thead th {\n",
       "        text-align: right;\n",
       "    }\n",
       "</style>\n",
       "<table border=\"1\" class=\"dataframe\">\n",
       "  <thead>\n",
       "    <tr style=\"text-align: right;\">\n",
       "      <th></th>\n",
       "      <th>County Name</th>\n",
       "      <th>Certificate of Immunization</th>\n",
       "      <th>Total Enrollment</th>\n",
       "    </tr>\n",
       "  </thead>\n",
       "  <tbody>\n",
       "    <tr>\n",
       "      <th>0</th>\n",
       "      <td>Adair</td>\n",
       "      <td>606</td>\n",
       "      <td>620</td>\n",
       "    </tr>\n",
       "    <tr>\n",
       "      <th>1</th>\n",
       "      <td>Adams</td>\n",
       "      <td>360</td>\n",
       "      <td>367</td>\n",
       "    </tr>\n",
       "    <tr>\n",
       "      <th>2</th>\n",
       "      <td>Allamakee</td>\n",
       "      <td>1871</td>\n",
       "      <td>2112</td>\n",
       "    </tr>\n",
       "  </tbody>\n",
       "</table>\n",
       "</div>"
      ],
      "text/plain": [
       "  County Name  Certificate of Immunization  Total Enrollment\n",
       "0       Adair                          606               620\n",
       "1       Adams                          360               367\n",
       "2   Allamakee                         1871              2112"
      ]
     },
     "execution_count": 44,
     "metadata": {},
     "output_type": "execute_result"
    }
   ],
   "source": [
    "result = df_ia.groupby(['County Name'])['Certificate of Immunization','Total Enrollment'].sum().reset_index()\n",
    "print(len(result))\n",
    "result.head(3)"
   ]
  },
  {
   "cell_type": "code",
   "execution_count": 45,
   "metadata": {},
   "outputs": [],
   "source": [
    "output_csv = folder + 'IA_NME' + '.csv'\n",
    "result.to_csv(output_csv, index=False, encoding='utf-8')"
   ]
  },
  {
   "cell_type": "markdown",
   "metadata": {},
   "source": [
    "## Kentucky (KY)\n",
    "120 counties\n",
    "\n",
    "* Kentucky School Districts: https://www.greatschools.org/schools/districts/Kentucky/KY/\n",
    "* No data for Lewis and Mccreary"
   ]
  },
  {
   "cell_type": "code",
   "execution_count": 80,
   "metadata": {},
   "outputs": [
    {
     "name": "stdout",
     "output_type": "stream",
     "text": [
      "1177\n"
     ]
    },
    {
     "data": {
      "text/html": [
       "<div>\n",
       "<style scoped>\n",
       "    .dataframe tbody tr th:only-of-type {\n",
       "        vertical-align: middle;\n",
       "    }\n",
       "\n",
       "    .dataframe tbody tr th {\n",
       "        vertical-align: top;\n",
       "    }\n",
       "\n",
       "    .dataframe thead th {\n",
       "        text-align: right;\n",
       "    }\n",
       "</style>\n",
       "<table border=\"1\" class=\"dataframe\">\n",
       "  <thead>\n",
       "    <tr style=\"text-align: right;\">\n",
       "      <th></th>\n",
       "      <th>Dist Name</th>\n",
       "      <th>Enrolled</th>\n",
       "      <th>Standard Certificates</th>\n",
       "    </tr>\n",
       "  </thead>\n",
       "  <tbody>\n",
       "    <tr>\n",
       "      <th>0</th>\n",
       "      <td>Adair County</td>\n",
       "      <td>219</td>\n",
       "      <td>206</td>\n",
       "    </tr>\n",
       "    <tr>\n",
       "      <th>1</th>\n",
       "      <td>Adair County</td>\n",
       "      <td>191</td>\n",
       "      <td>181</td>\n",
       "    </tr>\n",
       "    <tr>\n",
       "      <th>2</th>\n",
       "      <td>Allen County</td>\n",
       "      <td>232</td>\n",
       "      <td>229</td>\n",
       "    </tr>\n",
       "  </tbody>\n",
       "</table>\n",
       "</div>"
      ],
      "text/plain": [
       "      Dist Name  Enrolled  Standard Certificates\n",
       "0  Adair County       219                    206\n",
       "1  Adair County       191                    181\n",
       "2  Allen County       232                    229"
      ]
     },
     "execution_count": 80,
     "metadata": {},
     "output_type": "execute_result"
    }
   ],
   "source": [
    "in_table = folder + r'KY\\2018-19 Immunization_Certificates.xlsx'\n",
    "df_ky = pd.read_excel(in_table,sheet_name='KY')\n",
    "print(len(df_ky))\n",
    "df_ky.head(3)"
   ]
  },
  {
   "cell_type": "code",
   "execution_count": 81,
   "metadata": {},
   "outputs": [
    {
     "data": {
      "text/plain": [
       "170"
      ]
     },
     "execution_count": 81,
     "metadata": {},
     "output_type": "execute_result"
    }
   ],
   "source": [
    "len(set(df_ky['Dist Name']))"
   ]
  },
  {
   "cell_type": "code",
   "execution_count": 82,
   "metadata": {},
   "outputs": [
    {
     "name": "stdout",
     "output_type": "stream",
     "text": [
      "177\n"
     ]
    },
    {
     "data": {
      "text/html": [
       "<div>\n",
       "<style scoped>\n",
       "    .dataframe tbody tr th:only-of-type {\n",
       "        vertical-align: middle;\n",
       "    }\n",
       "\n",
       "    .dataframe tbody tr th {\n",
       "        vertical-align: top;\n",
       "    }\n",
       "\n",
       "    .dataframe thead th {\n",
       "        text-align: right;\n",
       "    }\n",
       "</style>\n",
       "<table border=\"1\" class=\"dataframe\">\n",
       "  <thead>\n",
       "    <tr style=\"text-align: right;\">\n",
       "      <th></th>\n",
       "      <th>Dist Name</th>\n",
       "      <th>City</th>\n",
       "      <th>County name</th>\n",
       "    </tr>\n",
       "  </thead>\n",
       "  <tbody>\n",
       "    <tr>\n",
       "      <th>0</th>\n",
       "      <td>Adair County</td>\n",
       "      <td>Columbia</td>\n",
       "      <td>Adair</td>\n",
       "    </tr>\n",
       "    <tr>\n",
       "      <th>1</th>\n",
       "      <td>Allen County</td>\n",
       "      <td>Scottsville</td>\n",
       "      <td>Allen</td>\n",
       "    </tr>\n",
       "    <tr>\n",
       "      <th>2</th>\n",
       "      <td>Anchorage Independent</td>\n",
       "      <td>Anchorage</td>\n",
       "      <td>Jefferson</td>\n",
       "    </tr>\n",
       "  </tbody>\n",
       "</table>\n",
       "</div>"
      ],
      "text/plain": [
       "               Dist Name         City County name\n",
       "0           Adair County     Columbia       Adair\n",
       "1           Allen County  Scottsville       Allen\n",
       "2  Anchorage Independent    Anchorage   Jefferson"
      ]
     },
     "execution_count": 82,
     "metadata": {},
     "output_type": "execute_result"
    }
   ],
   "source": [
    "df_kydst = pd.read_excel(in_table,sheet_name='district')\n",
    "print(len(df_kydst))\n",
    "df_kydst.head(3)"
   ]
  },
  {
   "cell_type": "code",
   "execution_count": 83,
   "metadata": {},
   "outputs": [
    {
     "data": {
      "text/plain": [
       "177"
      ]
     },
     "execution_count": 83,
     "metadata": {},
     "output_type": "execute_result"
    }
   ],
   "source": [
    "len(set(df_kydst['Dist Name']))"
   ]
  },
  {
   "cell_type": "code",
   "execution_count": 84,
   "metadata": {},
   "outputs": [
    {
     "data": {
      "text/plain": [
       "set()"
      ]
     },
     "execution_count": 84,
     "metadata": {},
     "output_type": "execute_result"
    }
   ],
   "source": [
    "set(df_ky['Dist Name']) - set(df_kydst['Dist Name']) # GOOD!"
   ]
  },
  {
   "cell_type": "code",
   "execution_count": 93,
   "metadata": {},
   "outputs": [
    {
     "data": {
      "text/plain": [
       "{'Jenkins Independent',\n",
       " 'Kentucky  ',\n",
       " 'Kentucky  For The Blind',\n",
       " 'Kentucky  For The Deaf',\n",
       " 'Kentucky Tech System',\n",
       " 'Lewis County',\n",
       " 'Mccreary County'}"
      ]
     },
     "execution_count": 93,
     "metadata": {},
     "output_type": "execute_result"
    }
   ],
   "source": [
    "set(df_kydst['Dist Name']) - set(df_ky['Dist Name']) "
   ]
  },
  {
   "cell_type": "code",
   "execution_count": 85,
   "metadata": {},
   "outputs": [
    {
     "name": "stdout",
     "output_type": "stream",
     "text": [
      "1177\n"
     ]
    },
    {
     "data": {
      "text/html": [
       "<div>\n",
       "<style scoped>\n",
       "    .dataframe tbody tr th:only-of-type {\n",
       "        vertical-align: middle;\n",
       "    }\n",
       "\n",
       "    .dataframe tbody tr th {\n",
       "        vertical-align: top;\n",
       "    }\n",
       "\n",
       "    .dataframe thead th {\n",
       "        text-align: right;\n",
       "    }\n",
       "</style>\n",
       "<table border=\"1\" class=\"dataframe\">\n",
       "  <thead>\n",
       "    <tr style=\"text-align: right;\">\n",
       "      <th></th>\n",
       "      <th>Dist Name</th>\n",
       "      <th>Enrolled</th>\n",
       "      <th>Standard Certificates</th>\n",
       "      <th>City</th>\n",
       "      <th>County name</th>\n",
       "    </tr>\n",
       "  </thead>\n",
       "  <tbody>\n",
       "    <tr>\n",
       "      <th>0</th>\n",
       "      <td>Adair County</td>\n",
       "      <td>219</td>\n",
       "      <td>206</td>\n",
       "      <td>Columbia</td>\n",
       "      <td>Adair</td>\n",
       "    </tr>\n",
       "    <tr>\n",
       "      <th>1</th>\n",
       "      <td>Adair County</td>\n",
       "      <td>191</td>\n",
       "      <td>181</td>\n",
       "      <td>Columbia</td>\n",
       "      <td>Adair</td>\n",
       "    </tr>\n",
       "    <tr>\n",
       "      <th>2</th>\n",
       "      <td>Allen County</td>\n",
       "      <td>232</td>\n",
       "      <td>229</td>\n",
       "      <td>Scottsville</td>\n",
       "      <td>Allen</td>\n",
       "    </tr>\n",
       "  </tbody>\n",
       "</table>\n",
       "</div>"
      ],
      "text/plain": [
       "      Dist Name  Enrolled  Standard Certificates         City County name\n",
       "0  Adair County       219                    206     Columbia       Adair\n",
       "1  Adair County       191                    181     Columbia       Adair\n",
       "2  Allen County       232                    229  Scottsville       Allen"
      ]
     },
     "execution_count": 85,
     "metadata": {},
     "output_type": "execute_result"
    }
   ],
   "source": [
    "temp = pd.merge(df_ky, df_kydst, how='left', left_on='Dist Name', right_on='Dist Name')\n",
    "print(len(temp))\n",
    "temp.head(3)"
   ]
  },
  {
   "cell_type": "code",
   "execution_count": 86,
   "metadata": {},
   "outputs": [
    {
     "data": {
      "text/plain": [
       "set()"
      ]
     },
     "execution_count": 86,
     "metadata": {},
     "output_type": "execute_result"
    }
   ],
   "source": [
    "set(temp[temp['County name'].isnull()]['Dist Name'])"
   ]
  },
  {
   "cell_type": "code",
   "execution_count": 94,
   "metadata": {},
   "outputs": [
    {
     "name": "stdout",
     "output_type": "stream",
     "text": [
      "118\n"
     ]
    },
    {
     "data": {
      "text/html": [
       "<div>\n",
       "<style scoped>\n",
       "    .dataframe tbody tr th:only-of-type {\n",
       "        vertical-align: middle;\n",
       "    }\n",
       "\n",
       "    .dataframe tbody tr th {\n",
       "        vertical-align: top;\n",
       "    }\n",
       "\n",
       "    .dataframe thead th {\n",
       "        text-align: right;\n",
       "    }\n",
       "</style>\n",
       "<table border=\"1\" class=\"dataframe\">\n",
       "  <thead>\n",
       "    <tr style=\"text-align: right;\">\n",
       "      <th></th>\n",
       "      <th>County name</th>\n",
       "      <th>Enrolled</th>\n",
       "      <th>Standard Certificates</th>\n",
       "    </tr>\n",
       "  </thead>\n",
       "  <tbody>\n",
       "    <tr>\n",
       "      <th>0</th>\n",
       "      <td>Adair</td>\n",
       "      <td>410</td>\n",
       "      <td>387</td>\n",
       "    </tr>\n",
       "    <tr>\n",
       "      <th>1</th>\n",
       "      <td>Allen</td>\n",
       "      <td>491</td>\n",
       "      <td>456</td>\n",
       "    </tr>\n",
       "    <tr>\n",
       "      <th>2</th>\n",
       "      <td>Anderson</td>\n",
       "      <td>573</td>\n",
       "      <td>543</td>\n",
       "    </tr>\n",
       "  </tbody>\n",
       "</table>\n",
       "</div>"
      ],
      "text/plain": [
       "  County name  Enrolled  Standard Certificates\n",
       "0       Adair       410                    387\n",
       "1       Allen       491                    456\n",
       "2    Anderson       573                    543"
      ]
     },
     "execution_count": 94,
     "metadata": {},
     "output_type": "execute_result"
    }
   ],
   "source": [
    "result = temp.groupby(['County name'])['Enrolled','Standard Certificates'].sum().reset_index()\n",
    "print(len(result))\n",
    "result.head(3)"
   ]
  },
  {
   "cell_type": "code",
   "execution_count": 96,
   "metadata": {},
   "outputs": [],
   "source": [
    "output_csv = folder + 'KY_VR' + '.csv'\n",
    "result.to_csv(output_csv, index=False, encoding='utf-8')"
   ]
  },
  {
   "cell_type": "markdown",
   "metadata": {},
   "source": [
    "## Idaho (ID)\n",
    "44 counties\n",
    "\n",
    "* Source: https://public.tableau.com/profile/idaho.division.of.public.health#!/vizhome/SIR2017_2018and2018_2019/IdahoSchoolImmunizationReport\n",
    "* https://www.sde.idaho.gov/finance/"
   ]
  },
  {
   "cell_type": "code",
   "execution_count": 29,
   "metadata": {},
   "outputs": [
    {
     "name": "stdout",
     "output_type": "stream",
     "text": [
      "587\n"
     ]
    },
    {
     "data": {
      "text/html": [
       "<div>\n",
       "<style scoped>\n",
       "    .dataframe tbody tr th:only-of-type {\n",
       "        vertical-align: middle;\n",
       "    }\n",
       "\n",
       "    .dataframe tbody tr th {\n",
       "        vertical-align: top;\n",
       "    }\n",
       "\n",
       "    .dataframe thead th {\n",
       "        text-align: right;\n",
       "    }\n",
       "</style>\n",
       "<table border=\"1\" class=\"dataframe\">\n",
       "  <thead>\n",
       "    <tr style=\"text-align: right;\">\n",
       "      <th></th>\n",
       "      <th>MMR Adequate Rate</th>\n",
       "      <th>school name</th>\n",
       "      <th>City</th>\n",
       "      <th>Zip</th>\n",
       "    </tr>\n",
       "  </thead>\n",
       "  <tbody>\n",
       "    <tr>\n",
       "      <th>0</th>\n",
       "      <td>0.976</td>\n",
       "      <td>a.b. mcdonald elementary</td>\n",
       "      <td>Moscow</td>\n",
       "      <td>83843</td>\n",
       "    </tr>\n",
       "    <tr>\n",
       "      <th>1</th>\n",
       "      <td>0.936</td>\n",
       "      <td>a.h. bush elementary</td>\n",
       "      <td>Idaho Falls</td>\n",
       "      <td>83402</td>\n",
       "    </tr>\n",
       "    <tr>\n",
       "      <th>2</th>\n",
       "      <td>0.935</td>\n",
       "      <td>a.j. winters elementary</td>\n",
       "      <td>Montpelier</td>\n",
       "      <td>83254</td>\n",
       "    </tr>\n",
       "  </tbody>\n",
       "</table>\n",
       "</div>"
      ],
      "text/plain": [
       "   MMR Adequate Rate               school name         City    Zip\n",
       "0              0.976  a.b. mcdonald elementary       Moscow  83843\n",
       "1              0.936      a.h. bush elementary  Idaho Falls  83402\n",
       "2              0.935   a.j. winters elementary   Montpelier  83254"
      ]
     },
     "execution_count": 29,
     "metadata": {},
     "output_type": "execute_result"
    }
   ],
   "source": [
    "in_table = folder + r'ID\\2017-18_School_Immunization_Rates_All_Grades_Combi_data.xlsx'\n",
    "df_id = pd.read_excel(in_table,sheet_name='MMR_rate')\n",
    "print(len(df_id))\n",
    "df_id.head(3)"
   ]
  },
  {
   "cell_type": "code",
   "execution_count": 30,
   "metadata": {},
   "outputs": [
    {
     "name": "stdout",
     "output_type": "stream",
     "text": [
      "318\n"
     ]
    },
    {
     "data": {
      "text/html": [
       "<div>\n",
       "<style scoped>\n",
       "    .dataframe tbody tr th:only-of-type {\n",
       "        vertical-align: middle;\n",
       "    }\n",
       "\n",
       "    .dataframe tbody tr th {\n",
       "        vertical-align: top;\n",
       "    }\n",
       "\n",
       "    .dataframe thead th {\n",
       "        text-align: right;\n",
       "    }\n",
       "</style>\n",
       "<table border=\"1\" class=\"dataframe\">\n",
       "  <thead>\n",
       "    <tr style=\"text-align: right;\">\n",
       "      <th></th>\n",
       "      <th>Zip</th>\n",
       "      <th>City</th>\n",
       "      <th>County</th>\n",
       "      <th>Type</th>\n",
       "    </tr>\n",
       "  </thead>\n",
       "  <tbody>\n",
       "    <tr>\n",
       "      <th>0</th>\n",
       "      <td>83201</td>\n",
       "      <td>Pocatello</td>\n",
       "      <td>Bannock</td>\n",
       "      <td>Standard</td>\n",
       "    </tr>\n",
       "    <tr>\n",
       "      <th>1</th>\n",
       "      <td>83202</td>\n",
       "      <td>Pocatello</td>\n",
       "      <td>Bannock</td>\n",
       "      <td>Standard</td>\n",
       "    </tr>\n",
       "    <tr>\n",
       "      <th>2</th>\n",
       "      <td>83203</td>\n",
       "      <td>Fort Hall</td>\n",
       "      <td>Bingham</td>\n",
       "      <td>P.O. Box</td>\n",
       "    </tr>\n",
       "  </tbody>\n",
       "</table>\n",
       "</div>"
      ],
      "text/plain": [
       "     Zip       City   County      Type\n",
       "0  83201  Pocatello  Bannock  Standard\n",
       "1  83202  Pocatello  Bannock  Standard\n",
       "2  83203  Fort Hall  Bingham  P.O. Box"
      ]
     },
     "execution_count": 30,
     "metadata": {},
     "output_type": "execute_result"
    }
   ],
   "source": [
    "df_idzip = pd.read_excel(in_table,sheet_name='zip_county')\n",
    "print(len(df_idzip))\n",
    "df_idzip.head(3)"
   ]
  },
  {
   "cell_type": "code",
   "execution_count": 31,
   "metadata": {},
   "outputs": [
    {
     "name": "stdout",
     "output_type": "stream",
     "text": [
      "179\n",
      "318\n",
      "set()\n"
     ]
    }
   ],
   "source": [
    "print(len(set(df_id['Zip'])))\n",
    "print(len(set(df_idzip['Zip'])))\n",
    "print(set(df_id['Zip'])-set(df_idzip['Zip'])) # GOOD!"
   ]
  },
  {
   "cell_type": "code",
   "execution_count": 32,
   "metadata": {},
   "outputs": [
    {
     "name": "stdout",
     "output_type": "stream",
     "text": [
      "587\n"
     ]
    },
    {
     "data": {
      "text/html": [
       "<div>\n",
       "<style scoped>\n",
       "    .dataframe tbody tr th:only-of-type {\n",
       "        vertical-align: middle;\n",
       "    }\n",
       "\n",
       "    .dataframe tbody tr th {\n",
       "        vertical-align: top;\n",
       "    }\n",
       "\n",
       "    .dataframe thead th {\n",
       "        text-align: right;\n",
       "    }\n",
       "</style>\n",
       "<table border=\"1\" class=\"dataframe\">\n",
       "  <thead>\n",
       "    <tr style=\"text-align: right;\">\n",
       "      <th></th>\n",
       "      <th>MMR Adequate Rate</th>\n",
       "      <th>school name</th>\n",
       "      <th>City_x</th>\n",
       "      <th>Zip</th>\n",
       "      <th>City_y</th>\n",
       "      <th>County</th>\n",
       "      <th>Type</th>\n",
       "    </tr>\n",
       "  </thead>\n",
       "  <tbody>\n",
       "    <tr>\n",
       "      <th>0</th>\n",
       "      <td>0.976</td>\n",
       "      <td>a.b. mcdonald elementary</td>\n",
       "      <td>Moscow</td>\n",
       "      <td>83843</td>\n",
       "      <td>Moscow</td>\n",
       "      <td>Latah</td>\n",
       "      <td>Standard</td>\n",
       "    </tr>\n",
       "    <tr>\n",
       "      <th>1</th>\n",
       "      <td>0.936</td>\n",
       "      <td>a.h. bush elementary</td>\n",
       "      <td>Idaho Falls</td>\n",
       "      <td>83402</td>\n",
       "      <td>Idaho Falls</td>\n",
       "      <td>Bonneville</td>\n",
       "      <td>Standard</td>\n",
       "    </tr>\n",
       "    <tr>\n",
       "      <th>2</th>\n",
       "      <td>0.935</td>\n",
       "      <td>a.j. winters elementary</td>\n",
       "      <td>Montpelier</td>\n",
       "      <td>83254</td>\n",
       "      <td>Montpelier</td>\n",
       "      <td>Bear Lake</td>\n",
       "      <td>Standard</td>\n",
       "    </tr>\n",
       "  </tbody>\n",
       "</table>\n",
       "</div>"
      ],
      "text/plain": [
       "   MMR Adequate Rate               school name       City_x    Zip  \\\n",
       "0              0.976  a.b. mcdonald elementary       Moscow  83843   \n",
       "1              0.936      a.h. bush elementary  Idaho Falls  83402   \n",
       "2              0.935   a.j. winters elementary   Montpelier  83254   \n",
       "\n",
       "        City_y      County      Type  \n",
       "0       Moscow       Latah  Standard  \n",
       "1  Idaho Falls  Bonneville  Standard  \n",
       "2   Montpelier   Bear Lake  Standard  "
      ]
     },
     "execution_count": 32,
     "metadata": {},
     "output_type": "execute_result"
    }
   ],
   "source": [
    "# get county name for zipcode\n",
    "temp = pd.merge(df_id, df_idzip, how='left', on='Zip')\n",
    "print(len(temp))\n",
    "temp.head(3)"
   ]
  },
  {
   "cell_type": "markdown",
   "metadata": {},
   "source": [
    "### Average MMR rate"
   ]
  },
  {
   "cell_type": "code",
   "execution_count": 36,
   "metadata": {},
   "outputs": [],
   "source": [
    "import numpy as np"
   ]
  },
  {
   "cell_type": "code",
   "execution_count": 101,
   "metadata": {
    "scrolled": true
   },
   "outputs": [],
   "source": [
    "df = temp[['County','MMR Adequate Rate']]\n",
    "# find the mean and std dev.\n",
    "#df.groupby(\"County\").apply(np.std)"
   ]
  },
  {
   "cell_type": "code",
   "execution_count": 102,
   "metadata": {
    "scrolled": true
   },
   "outputs": [],
   "source": [
    "pd.set_option('display.max_rows', 50)\n",
    "result = df.groupby(['County'], as_index=False).agg({'MMR Adequate Rate':['mean','std']})\n",
    "#result"
   ]
  },
  {
   "cell_type": "code",
   "execution_count": 49,
   "metadata": {},
   "outputs": [
    {
     "name": "stdout",
     "output_type": "stream",
     "text": [
      "44\n"
     ]
    },
    {
     "data": {
      "text/html": [
       "<div>\n",
       "<style scoped>\n",
       "    .dataframe tbody tr th:only-of-type {\n",
       "        vertical-align: middle;\n",
       "    }\n",
       "\n",
       "    .dataframe tbody tr th {\n",
       "        vertical-align: top;\n",
       "    }\n",
       "\n",
       "    .dataframe thead th {\n",
       "        text-align: right;\n",
       "    }\n",
       "</style>\n",
       "<table border=\"1\" class=\"dataframe\">\n",
       "  <thead>\n",
       "    <tr style=\"text-align: right;\">\n",
       "      <th></th>\n",
       "      <th>County</th>\n",
       "      <th>MMR Adequate Rate</th>\n",
       "    </tr>\n",
       "  </thead>\n",
       "  <tbody>\n",
       "    <tr>\n",
       "      <th>0</th>\n",
       "      <td>Ada</td>\n",
       "      <td>0.920711</td>\n",
       "    </tr>\n",
       "    <tr>\n",
       "      <th>1</th>\n",
       "      <td>Adams</td>\n",
       "      <td>0.864000</td>\n",
       "    </tr>\n",
       "    <tr>\n",
       "      <th>2</th>\n",
       "      <td>Bannock</td>\n",
       "      <td>0.939400</td>\n",
       "    </tr>\n",
       "  </tbody>\n",
       "</table>\n",
       "</div>"
      ],
      "text/plain": [
       "    County  MMR Adequate Rate\n",
       "0      Ada           0.920711\n",
       "1    Adams           0.864000\n",
       "2  Bannock           0.939400"
      ]
     },
     "execution_count": 49,
     "metadata": {},
     "output_type": "execute_result"
    }
   ],
   "source": [
    "pd.set_option('display.max_rows', 10)\n",
    "result = df.groupby(['County'])['MMR Adequate Rate'].mean().reset_index()\n",
    "print(len(result))\n",
    "result.head(3)"
   ]
  },
  {
   "cell_type": "code",
   "execution_count": 55,
   "metadata": {},
   "outputs": [],
   "source": [
    "output_csv = folder + 'ID_NME' + '.csv'\n",
    "result.to_csv(output_csv, index=False, encoding='utf-8')"
   ]
  },
  {
   "cell_type": "code",
   "execution_count": null,
   "metadata": {},
   "outputs": [],
   "source": []
  },
  {
   "cell_type": "markdown",
   "metadata": {},
   "source": [
    "### Enrollment"
   ]
  },
  {
   "cell_type": "code",
   "execution_count": 84,
   "metadata": {},
   "outputs": [
    {
     "name": "stdout",
     "output_type": "stream",
     "text": [
      "739\n"
     ]
    },
    {
     "data": {
      "text/html": [
       "<div>\n",
       "<style scoped>\n",
       "    .dataframe tbody tr th:only-of-type {\n",
       "        vertical-align: middle;\n",
       "    }\n",
       "\n",
       "    .dataframe tbody tr th {\n",
       "        vertical-align: top;\n",
       "    }\n",
       "\n",
       "    .dataframe thead th {\n",
       "        text-align: right;\n",
       "    }\n",
       "</style>\n",
       "<table border=\"1\" class=\"dataframe\">\n",
       "  <thead>\n",
       "    <tr style=\"text-align: right;\">\n",
       "      <th></th>\n",
       "      <th>school name</th>\n",
       "      <th>total_enrollment</th>\n",
       "    </tr>\n",
       "  </thead>\n",
       "  <tbody>\n",
       "    <tr>\n",
       "      <th>0</th>\n",
       "      <td>3b juvenile detention center</td>\n",
       "      <td>13</td>\n",
       "    </tr>\n",
       "    <tr>\n",
       "      <th>1</th>\n",
       "      <td>a.b. mcdonald elementary</td>\n",
       "      <td>400</td>\n",
       "    </tr>\n",
       "    <tr>\n",
       "      <th>2</th>\n",
       "      <td>a.h. bush elementary</td>\n",
       "      <td>409</td>\n",
       "    </tr>\n",
       "  </tbody>\n",
       "</table>\n",
       "</div>"
      ],
      "text/plain": [
       "                    school name  total_enrollment\n",
       "0  3b juvenile detention center                13\n",
       "1      a.b. mcdonald elementary               400\n",
       "2          a.h. bush elementary               409"
      ]
     },
     "execution_count": 84,
     "metadata": {},
     "output_type": "execute_result"
    }
   ],
   "source": [
    "df_idenr = pd.read_excel(in_table,sheet_name='school_enroll')\n",
    "print(len(df_idenr))\n",
    "df_idenr.head(3)\n",
    "\n",
    "# note: make sure school names are lowercases in both spreadsheets"
   ]
  },
  {
   "cell_type": "code",
   "execution_count": 87,
   "metadata": {},
   "outputs": [
    {
     "name": "stdout",
     "output_type": "stream",
     "text": [
      "559\n",
      "710\n"
     ]
    }
   ],
   "source": [
    "print(len(set(df_id['school name'])))\n",
    "print(len(set(df_idenr['school name'])))"
   ]
  },
  {
   "cell_type": "code",
   "execution_count": 98,
   "metadata": {
    "scrolled": false
   },
   "outputs": [],
   "source": [
    "missing_schools = set(df_id['school name'])-set(df_idenr['school name'])\n",
    "#print(len(missing_schools))\n",
    "#print(missing_schools)"
   ]
  },
  {
   "cell_type": "code",
   "execution_count": 39,
   "metadata": {},
   "outputs": [
    {
     "name": "stdout",
     "output_type": "stream",
     "text": [
      "103\n"
     ]
    },
    {
     "data": {
      "text/html": [
       "<div>\n",
       "<style scoped>\n",
       "    .dataframe tbody tr th:only-of-type {\n",
       "        vertical-align: middle;\n",
       "    }\n",
       "\n",
       "    .dataframe tbody tr th {\n",
       "        vertical-align: top;\n",
       "    }\n",
       "\n",
       "    .dataframe thead th {\n",
       "        text-align: right;\n",
       "    }\n",
       "</style>\n",
       "<table border=\"1\" class=\"dataframe\">\n",
       "  <thead>\n",
       "    <tr style=\"text-align: right;\">\n",
       "      <th></th>\n",
       "      <th>County</th>\n",
       "      <th>Enrollment PreK-12</th>\n",
       "      <th>Vaccination Acquired</th>\n",
       "    </tr>\n",
       "  </thead>\n",
       "  <tbody>\n",
       "    <tr>\n",
       "      <th>0</th>\n",
       "      <td>Adams</td>\n",
       "      <td>10828</td>\n",
       "      <td>10717</td>\n",
       "    </tr>\n",
       "    <tr>\n",
       "      <th>1</th>\n",
       "      <td>Alexander</td>\n",
       "      <td>743</td>\n",
       "      <td>732</td>\n",
       "    </tr>\n",
       "    <tr>\n",
       "      <th>2</th>\n",
       "      <td>Bond</td>\n",
       "      <td>2209</td>\n",
       "      <td>2180</td>\n",
       "    </tr>\n",
       "  </tbody>\n",
       "</table>\n",
       "</div>"
      ],
      "text/plain": [
       "      County  Enrollment PreK-12  Vaccination Acquired\n",
       "0      Adams               10828                 10717\n",
       "1  Alexander                 743                   732\n",
       "2       Bond                2209                  2180"
      ]
     },
     "execution_count": 39,
     "metadata": {},
     "output_type": "execute_result"
    }
   ],
   "source": [
    "result = temp.groupby(['County'])['Enrollment PreK-12','Vaccination Acquired'].sum().reset_index()\n",
    "print(len(result))\n",
    "result.head(3)"
   ]
  },
  {
   "cell_type": "code",
   "execution_count": 41,
   "metadata": {},
   "outputs": [],
   "source": [
    "output_csv = folder + 'IL_NME' + '.csv'\n",
    "result.to_csv(output_csv, index=False, encoding='utf-8')"
   ]
  },
  {
   "cell_type": "markdown",
   "metadata": {},
   "source": [
    "## Rhode Island (RI)\n",
    "5 counties\n",
    "\n",
    "* Sources: \n",
    "\n",
    "    * web scrapping: http://www.health.ri.gov/data/schools/immunization/\n",
    "    * city + county + population: https://en.wikipedia.org/wiki/List_of_municipalities_in_Rhode_Island"
   ]
  },
  {
   "cell_type": "code",
   "execution_count": 64,
   "metadata": {},
   "outputs": [
    {
     "name": "stdout",
     "output_type": "stream",
     "text": [
      "39\n"
     ]
    },
    {
     "data": {
      "text/html": [
       "<div>\n",
       "<style scoped>\n",
       "    .dataframe tbody tr th:only-of-type {\n",
       "        vertical-align: middle;\n",
       "    }\n",
       "\n",
       "    .dataframe tbody tr th {\n",
       "        vertical-align: top;\n",
       "    }\n",
       "\n",
       "    .dataframe thead th {\n",
       "        text-align: right;\n",
       "    }\n",
       "</style>\n",
       "<table border=\"1\" class=\"dataframe\">\n",
       "  <thead>\n",
       "    <tr style=\"text-align: right;\">\n",
       "      <th></th>\n",
       "      <th>city</th>\n",
       "      <th>county</th>\n",
       "      <th>pop2010</th>\n",
       "      <th>VR</th>\n",
       "      <th>pop_vr</th>\n",
       "    </tr>\n",
       "  </thead>\n",
       "  <tbody>\n",
       "    <tr>\n",
       "      <th>0</th>\n",
       "      <td>Barrington</td>\n",
       "      <td>Bristol</td>\n",
       "      <td>16310</td>\n",
       "      <td>94.7</td>\n",
       "      <td>15445.570</td>\n",
       "    </tr>\n",
       "    <tr>\n",
       "      <th>1</th>\n",
       "      <td>Bristol</td>\n",
       "      <td>Bristol</td>\n",
       "      <td>22954</td>\n",
       "      <td>86.9</td>\n",
       "      <td>19947.026</td>\n",
       "    </tr>\n",
       "    <tr>\n",
       "      <th>2</th>\n",
       "      <td>Burrillville</td>\n",
       "      <td>Providence</td>\n",
       "      <td>15955</td>\n",
       "      <td>97.6</td>\n",
       "      <td>15572.080</td>\n",
       "    </tr>\n",
       "  </tbody>\n",
       "</table>\n",
       "</div>"
      ],
      "text/plain": [
       "           city      county  pop2010    VR     pop_vr\n",
       "0    Barrington     Bristol    16310  94.7  15445.570\n",
       "1       Bristol     Bristol    22954  86.9  19947.026\n",
       "2  Burrillville  Providence    15955  97.6  15572.080"
      ]
     },
     "execution_count": 64,
     "metadata": {},
     "output_type": "execute_result"
    }
   ],
   "source": [
    "in_table = folder + r'RI\\RI_online.xlsx'\n",
    "df_ri = pd.read_excel(in_table,sheet_name='city_vr')\n",
    "print(len(df_ri))\n",
    "df_ri.head(3)"
   ]
  },
  {
   "cell_type": "code",
   "execution_count": 65,
   "metadata": {},
   "outputs": [
    {
     "name": "stdout",
     "output_type": "stream",
     "text": [
      "5\n"
     ]
    },
    {
     "data": {
      "text/html": [
       "<div>\n",
       "<style scoped>\n",
       "    .dataframe tbody tr th:only-of-type {\n",
       "        vertical-align: middle;\n",
       "    }\n",
       "\n",
       "    .dataframe tbody tr th {\n",
       "        vertical-align: top;\n",
       "    }\n",
       "\n",
       "    .dataframe thead th {\n",
       "        text-align: right;\n",
       "    }\n",
       "</style>\n",
       "<table border=\"1\" class=\"dataframe\">\n",
       "  <thead>\n",
       "    <tr style=\"text-align: right;\">\n",
       "      <th></th>\n",
       "      <th>county</th>\n",
       "      <th>pop_vr</th>\n",
       "      <th>pop2010</th>\n",
       "    </tr>\n",
       "  </thead>\n",
       "  <tbody>\n",
       "    <tr>\n",
       "      <th>0</th>\n",
       "      <td>Bristol</td>\n",
       "      <td>45759.543</td>\n",
       "      <td>49875</td>\n",
       "    </tr>\n",
       "    <tr>\n",
       "      <th>1</th>\n",
       "      <td>Kent</td>\n",
       "      <td>161929.124</td>\n",
       "      <td>166158</td>\n",
       "    </tr>\n",
       "    <tr>\n",
       "      <th>2</th>\n",
       "      <td>Newport</td>\n",
       "      <td>78255.139</td>\n",
       "      <td>82888</td>\n",
       "    </tr>\n",
       "  </tbody>\n",
       "</table>\n",
       "</div>"
      ],
      "text/plain": [
       "    county      pop_vr  pop2010\n",
       "0  Bristol   45759.543    49875\n",
       "1     Kent  161929.124   166158\n",
       "2  Newport   78255.139    82888"
      ]
     },
     "execution_count": 65,
     "metadata": {},
     "output_type": "execute_result"
    }
   ],
   "source": [
    "result = df_ri.groupby(['county'])['pop_vr','pop2010'].sum().reset_index()\n",
    "print(len(result))\n",
    "result.head(3)"
   ]
  },
  {
   "cell_type": "code",
   "execution_count": 66,
   "metadata": {},
   "outputs": [],
   "source": [
    "output_csv = folder + 'RI_NME' + '.csv'\n",
    "result.to_csv(output_csv, index=False, encoding='utf-8')"
   ]
  },
  {
   "cell_type": "markdown",
   "metadata": {},
   "source": [
    "## Texas (TX)\n",
    "254 counties\n",
    "* https://www.dshs.texas.gov/immunize/coverage/schools/\n",
    "* https://rptsvr1.tea.texas.gov/adhocrpt/adste.html"
   ]
  },
  {
   "cell_type": "code",
   "execution_count": 3,
   "metadata": {},
   "outputs": [
    {
     "name": "stdout",
     "output_type": "stream",
     "text": [
      "1121\n"
     ]
    },
    {
     "data": {
      "text/html": [
       "<div>\n",
       "<style scoped>\n",
       "    .dataframe tbody tr th:only-of-type {\n",
       "        vertical-align: middle;\n",
       "    }\n",
       "\n",
       "    .dataframe tbody tr th {\n",
       "        vertical-align: top;\n",
       "    }\n",
       "\n",
       "    .dataframe thead th {\n",
       "        text-align: right;\n",
       "    }\n",
       "</style>\n",
       "<table border=\"1\" class=\"dataframe\">\n",
       "  <thead>\n",
       "    <tr style=\"text-align: right;\">\n",
       "      <th></th>\n",
       "      <th>DISTRICT</th>\n",
       "      <th>School Type</th>\n",
       "      <th>Facility Name</th>\n",
       "      <th>Facility Address</th>\n",
       "      <th>County</th>\n",
       "      <th>MMR</th>\n",
       "    </tr>\n",
       "  </thead>\n",
       "  <tbody>\n",
       "    <tr>\n",
       "      <th>0</th>\n",
       "      <td>57273</td>\n",
       "      <td>Public ISD</td>\n",
       "      <td>International Leadership Of Texas</td>\n",
       "      <td>4413 N Shiloh Rd, Garland, TX, 75044</td>\n",
       "      <td>Dallas</td>\n",
       "      <td>0.945786</td>\n",
       "    </tr>\n",
       "    <tr>\n",
       "      <th>1</th>\n",
       "      <td>1902</td>\n",
       "      <td>Public ISD</td>\n",
       "      <td>Cayuga ISD</td>\n",
       "      <td>P O BOX 427, CAYUGA, TX, 75832</td>\n",
       "      <td>Anderson</td>\n",
       "      <td>0.972973</td>\n",
       "    </tr>\n",
       "    <tr>\n",
       "      <th>2</th>\n",
       "      <td>1903</td>\n",
       "      <td>Public ISD</td>\n",
       "      <td>Elkhart ISD</td>\n",
       "      <td>301 E PARKER ST, ELKHART, TX, 75839</td>\n",
       "      <td>Anderson</td>\n",
       "      <td>0.989011</td>\n",
       "    </tr>\n",
       "  </tbody>\n",
       "</table>\n",
       "</div>"
      ],
      "text/plain": [
       "   DISTRICT School Type                      Facility Name  \\\n",
       "0     57273  Public ISD  International Leadership Of Texas   \n",
       "1      1902  Public ISD                         Cayuga ISD   \n",
       "2      1903  Public ISD                        Elkhart ISD   \n",
       "\n",
       "                       Facility Address    County       MMR  \n",
       "0  4413 N Shiloh Rd, Garland, TX, 75044    Dallas  0.945786  \n",
       "1        P O BOX 427, CAYUGA, TX, 75832  Anderson  0.972973  \n",
       "2   301 E PARKER ST, ELKHART, TX, 75839  Anderson  0.989011  "
      ]
     },
     "execution_count": 3,
     "metadata": {},
     "output_type": "execute_result"
    }
   ],
   "source": [
    "in_table = folder + r'TX\\TX_MMR.xlsx'\n",
    "df_tx = pd.read_excel(in_table,sheet_name='MMR')\n",
    "print(len(df_tx))\n",
    "df_tx.head(3)\n",
    "# note: DISTRICT is sliced from \"Facility Number\""
   ]
  },
  {
   "cell_type": "code",
   "execution_count": 18,
   "metadata": {},
   "outputs": [
    {
     "name": "stdout",
     "output_type": "stream",
     "text": [
      "4537\n",
      "4537\n"
     ]
    },
    {
     "data": {
      "text/html": [
       "<div>\n",
       "<style scoped>\n",
       "    .dataframe tbody tr th:only-of-type {\n",
       "        vertical-align: middle;\n",
       "    }\n",
       "\n",
       "    .dataframe tbody tr th {\n",
       "        vertical-align: top;\n",
       "    }\n",
       "\n",
       "    .dataframe thead th {\n",
       "        text-align: right;\n",
       "    }\n",
       "</style>\n",
       "<table border=\"1\" class=\"dataframe\">\n",
       "  <thead>\n",
       "    <tr style=\"text-align: right;\">\n",
       "      <th></th>\n",
       "      <th>YEAR</th>\n",
       "      <th>REGION</th>\n",
       "      <th>COUNTY NAME</th>\n",
       "      <th>DISTRICT</th>\n",
       "      <th>DISTRICT NAME</th>\n",
       "      <th>CAMPUS</th>\n",
       "      <th>CAMPUS NAME</th>\n",
       "      <th>GRADE GROUP NAME</th>\n",
       "      <th>GRADE</th>\n",
       "      <th>ENROLLMENT</th>\n",
       "    </tr>\n",
       "  </thead>\n",
       "  <tbody>\n",
       "    <tr>\n",
       "      <th>0</th>\n",
       "      <td>2018-2019</td>\n",
       "      <td>7</td>\n",
       "      <td>ANDERSON COUNTY</td>\n",
       "      <td>1902</td>\n",
       "      <td>CAYUGA ISD</td>\n",
       "      <td>1902103</td>\n",
       "      <td>CAYUGA EL</td>\n",
       "      <td>ELEMENTARY</td>\n",
       "      <td>Kindergarten</td>\n",
       "      <td>38</td>\n",
       "    </tr>\n",
       "    <tr>\n",
       "      <th>1</th>\n",
       "      <td>2018-2019</td>\n",
       "      <td>7</td>\n",
       "      <td>ANDERSON COUNTY</td>\n",
       "      <td>1903</td>\n",
       "      <td>ELKHART ISD</td>\n",
       "      <td>1903101</td>\n",
       "      <td>ELKHART EL</td>\n",
       "      <td>ELEMENTARY</td>\n",
       "      <td>Kindergarten</td>\n",
       "      <td>91</td>\n",
       "    </tr>\n",
       "    <tr>\n",
       "      <th>2</th>\n",
       "      <td>2018-2019</td>\n",
       "      <td>7</td>\n",
       "      <td>ANDERSON COUNTY</td>\n",
       "      <td>1904</td>\n",
       "      <td>FRANKSTON ISD</td>\n",
       "      <td>1904102</td>\n",
       "      <td>FRANKSTON EL</td>\n",
       "      <td>ELEMENTARY</td>\n",
       "      <td>Kindergarten</td>\n",
       "      <td>62</td>\n",
       "    </tr>\n",
       "  </tbody>\n",
       "</table>\n",
       "</div>"
      ],
      "text/plain": [
       "        YEAR  REGION      COUNTY NAME  DISTRICT  DISTRICT NAME   CAMPUS  \\\n",
       "0  2018-2019       7  ANDERSON COUNTY      1902     CAYUGA ISD  1902103   \n",
       "1  2018-2019       7  ANDERSON COUNTY      1903    ELKHART ISD  1903101   \n",
       "2  2018-2019       7  ANDERSON COUNTY      1904  FRANKSTON ISD  1904102   \n",
       "\n",
       "    CAMPUS NAME GRADE GROUP NAME         GRADE  ENROLLMENT  \n",
       "0     CAYUGA EL       ELEMENTARY  Kindergarten          38  \n",
       "1    ELKHART EL       ELEMENTARY  Kindergarten          91  \n",
       "2  FRANKSTON EL       ELEMENTARY  Kindergarten          62  "
      ]
     },
     "execution_count": 18,
     "metadata": {},
     "output_type": "execute_result"
    }
   ],
   "source": [
    "df_txenroll = pd.read_excel(in_table,sheet_name='K-enroll') # only the kindergarten\n",
    "print(len(df_txenroll))\n",
    "#df_txenroll = df_txenroll[df_txenroll['ENROLLMENT']!=-999] # remove -999\n",
    "print(len(df_txenroll))\n",
    "df_txenroll.head(3)"
   ]
  },
  {
   "cell_type": "code",
   "execution_count": 19,
   "metadata": {},
   "outputs": [
    {
     "name": "stdout",
     "output_type": "stream",
     "text": [
      "1155\n"
     ]
    },
    {
     "data": {
      "text/html": [
       "<div>\n",
       "<style scoped>\n",
       "    .dataframe tbody tr th:only-of-type {\n",
       "        vertical-align: middle;\n",
       "    }\n",
       "\n",
       "    .dataframe tbody tr th {\n",
       "        vertical-align: top;\n",
       "    }\n",
       "\n",
       "    .dataframe thead th {\n",
       "        text-align: right;\n",
       "    }\n",
       "</style>\n",
       "<table border=\"1\" class=\"dataframe\">\n",
       "  <thead>\n",
       "    <tr style=\"text-align: right;\">\n",
       "      <th></th>\n",
       "      <th>DISTRICT</th>\n",
       "      <th>ENROLLMENT</th>\n",
       "    </tr>\n",
       "  </thead>\n",
       "  <tbody>\n",
       "    <tr>\n",
       "      <th>0</th>\n",
       "      <td>1902</td>\n",
       "      <td>38</td>\n",
       "    </tr>\n",
       "    <tr>\n",
       "      <th>1</th>\n",
       "      <td>1903</td>\n",
       "      <td>91</td>\n",
       "    </tr>\n",
       "    <tr>\n",
       "      <th>2</th>\n",
       "      <td>1904</td>\n",
       "      <td>62</td>\n",
       "    </tr>\n",
       "  </tbody>\n",
       "</table>\n",
       "</div>"
      ],
      "text/plain": [
       "   DISTRICT  ENROLLMENT\n",
       "0      1902          38\n",
       "1      1903          91\n",
       "2      1904          62"
      ]
     },
     "execution_count": 19,
     "metadata": {},
     "output_type": "execute_result"
    }
   ],
   "source": [
    "result = df_txenroll.groupby(['DISTRICT'])['ENROLLMENT'].sum().reset_index()\n",
    "print(len(result))\n",
    "result.head(3)"
   ]
  },
  {
   "cell_type": "code",
   "execution_count": 20,
   "metadata": {},
   "outputs": [
    {
     "name": "stdout",
     "output_type": "stream",
     "text": [
      "1121\n",
      "1155\n",
      "{227906, 21801, 178802, 86903, 57273}\n",
      "{224902, 86024, 193801, 245904, 133905, 22903, 63906, 180901, 132902, 180903, 84903, 213801, 178808, 105905, 249906, 153907, 101810, 206902, 62905, 115903, 67908, 104903, 105802, 57804, 205901, 72910, 45903, 57810, 66005, 66901, 101847, 15835, 227806, 221801, 102901, 22902, 57846, 57848, 187901}\n"
     ]
    }
   ],
   "source": [
    "print(len(set(df_tx['DISTRICT'])))\n",
    "print(len(set(df_txenroll['DISTRICT'])))\n",
    "print(set(df_tx['DISTRICT'])-set(df_txenroll['DISTRICT']))\n",
    "print(set(df_txenroll['DISTRICT'])-set(df_tx['DISTRICT']))"
   ]
  },
  {
   "cell_type": "code",
   "execution_count": 22,
   "metadata": {},
   "outputs": [
    {
     "name": "stdout",
     "output_type": "stream",
     "text": [
      "1121\n"
     ]
    },
    {
     "data": {
      "text/html": [
       "<div>\n",
       "<style scoped>\n",
       "    .dataframe tbody tr th:only-of-type {\n",
       "        vertical-align: middle;\n",
       "    }\n",
       "\n",
       "    .dataframe tbody tr th {\n",
       "        vertical-align: top;\n",
       "    }\n",
       "\n",
       "    .dataframe thead th {\n",
       "        text-align: right;\n",
       "    }\n",
       "</style>\n",
       "<table border=\"1\" class=\"dataframe\">\n",
       "  <thead>\n",
       "    <tr style=\"text-align: right;\">\n",
       "      <th></th>\n",
       "      <th>DISTRICT</th>\n",
       "      <th>School Type</th>\n",
       "      <th>Facility Name</th>\n",
       "      <th>Facility Address</th>\n",
       "      <th>County</th>\n",
       "      <th>MMR</th>\n",
       "      <th>ENROLLMENT</th>\n",
       "    </tr>\n",
       "  </thead>\n",
       "  <tbody>\n",
       "    <tr>\n",
       "      <th>0</th>\n",
       "      <td>57273</td>\n",
       "      <td>Public ISD</td>\n",
       "      <td>International Leadership Of Texas</td>\n",
       "      <td>4413 N Shiloh Rd, Garland, TX, 75044</td>\n",
       "      <td>Dallas</td>\n",
       "      <td>0.945786</td>\n",
       "      <td>NaN</td>\n",
       "    </tr>\n",
       "    <tr>\n",
       "      <th>1</th>\n",
       "      <td>1902</td>\n",
       "      <td>Public ISD</td>\n",
       "      <td>Cayuga ISD</td>\n",
       "      <td>P O BOX 427, CAYUGA, TX, 75832</td>\n",
       "      <td>Anderson</td>\n",
       "      <td>0.972973</td>\n",
       "      <td>38.0</td>\n",
       "    </tr>\n",
       "    <tr>\n",
       "      <th>2</th>\n",
       "      <td>1903</td>\n",
       "      <td>Public ISD</td>\n",
       "      <td>Elkhart ISD</td>\n",
       "      <td>301 E PARKER ST, ELKHART, TX, 75839</td>\n",
       "      <td>Anderson</td>\n",
       "      <td>0.989011</td>\n",
       "      <td>91.0</td>\n",
       "    </tr>\n",
       "  </tbody>\n",
       "</table>\n",
       "</div>"
      ],
      "text/plain": [
       "   DISTRICT School Type                      Facility Name  \\\n",
       "0     57273  Public ISD  International Leadership Of Texas   \n",
       "1      1902  Public ISD                         Cayuga ISD   \n",
       "2      1903  Public ISD                        Elkhart ISD   \n",
       "\n",
       "                       Facility Address    County       MMR  ENROLLMENT  \n",
       "0  4413 N Shiloh Rd, Garland, TX, 75044    Dallas  0.945786         NaN  \n",
       "1        P O BOX 427, CAYUGA, TX, 75832  Anderson  0.972973        38.0  \n",
       "2   301 E PARKER ST, ELKHART, TX, 75839  Anderson  0.989011        91.0  "
      ]
     },
     "execution_count": 22,
     "metadata": {},
     "output_type": "execute_result"
    }
   ],
   "source": [
    "temp = pd.merge(df_tx, result, how='left', on='DISTRICT')\n",
    "print(len(temp))\n",
    "temp.head(3)"
   ]
  },
  {
   "cell_type": "code",
   "execution_count": 23,
   "metadata": {},
   "outputs": [],
   "source": [
    "output_csv = folder + 'TX_temp' + '.csv'\n",
    "temp.to_csv(output_csv, index=False, encoding='utf-8')"
   ]
  },
  {
   "cell_type": "code",
   "execution_count": 25,
   "metadata": {},
   "outputs": [
    {
     "name": "stdout",
     "output_type": "stream",
     "text": [
      "1009\n"
     ]
    },
    {
     "data": {
      "text/html": [
       "<div>\n",
       "<style scoped>\n",
       "    .dataframe tbody tr th:only-of-type {\n",
       "        vertical-align: middle;\n",
       "    }\n",
       "\n",
       "    .dataframe tbody tr th {\n",
       "        vertical-align: top;\n",
       "    }\n",
       "\n",
       "    .dataframe thead th {\n",
       "        text-align: right;\n",
       "    }\n",
       "</style>\n",
       "<table border=\"1\" class=\"dataframe\">\n",
       "  <thead>\n",
       "    <tr style=\"text-align: right;\">\n",
       "      <th></th>\n",
       "      <th>DISTRICT</th>\n",
       "      <th>School Type</th>\n",
       "      <th>Facility Name</th>\n",
       "      <th>Facility Address</th>\n",
       "      <th>County</th>\n",
       "      <th>MMR</th>\n",
       "      <th>ENROLLMENT</th>\n",
       "      <th>V_NUM</th>\n",
       "    </tr>\n",
       "  </thead>\n",
       "  <tbody>\n",
       "    <tr>\n",
       "      <th>0</th>\n",
       "      <td>34902</td>\n",
       "      <td>Public ISD</td>\n",
       "      <td>Avinger ISD</td>\n",
       "      <td>245 CONNOR ST, AVINGER, TX, 75630</td>\n",
       "      <td>Cass</td>\n",
       "      <td>1.0</td>\n",
       "      <td>5.0</td>\n",
       "      <td>5.0</td>\n",
       "    </tr>\n",
       "    <tr>\n",
       "      <th>1</th>\n",
       "      <td>65902</td>\n",
       "      <td>Public ISD</td>\n",
       "      <td>Hedley ISD</td>\n",
       "      <td>P O BOX 69, HEDLEY, TX, 79237</td>\n",
       "      <td>Donley</td>\n",
       "      <td>1.0</td>\n",
       "      <td>5.0</td>\n",
       "      <td>5.0</td>\n",
       "    </tr>\n",
       "    <tr>\n",
       "      <th>2</th>\n",
       "      <td>90905</td>\n",
       "      <td>Public ISD</td>\n",
       "      <td>Grandview-Hopkins ISD</td>\n",
       "      <td>11676 FM 293, GROOM, TX, 79039</td>\n",
       "      <td>Carson</td>\n",
       "      <td>1.0</td>\n",
       "      <td>5.0</td>\n",
       "      <td>5.0</td>\n",
       "    </tr>\n",
       "  </tbody>\n",
       "</table>\n",
       "</div>"
      ],
      "text/plain": [
       "   DISTRICT School Type          Facility Name  \\\n",
       "0     34902  Public ISD            Avinger ISD   \n",
       "1     65902  Public ISD             Hedley ISD   \n",
       "2     90905  Public ISD  Grandview-Hopkins ISD   \n",
       "\n",
       "                    Facility Address  County  MMR  ENROLLMENT  V_NUM  \n",
       "0  245 CONNOR ST, AVINGER, TX, 75630    Cass  1.0         5.0    5.0  \n",
       "1      P O BOX 69, HEDLEY, TX, 79237  Donley  1.0         5.0    5.0  \n",
       "2     11676 FM 293, GROOM, TX, 79039  Carson  1.0         5.0    5.0  "
      ]
     },
     "execution_count": 25,
     "metadata": {},
     "output_type": "execute_result"
    }
   ],
   "source": [
    "# In Excel: remove ENROLLMENT = NaN or < 0,mutiple MMR*ENROLLMENT\n",
    "in_table = folder + r'TX\\TX_temp.xlsx'\n",
    "df_tx = pd.read_excel(in_table)\n",
    "print(len(df_tx))\n",
    "df_tx.head(3)"
   ]
  },
  {
   "cell_type": "code",
   "execution_count": 26,
   "metadata": {},
   "outputs": [
    {
     "name": "stdout",
     "output_type": "stream",
     "text": [
      "245\n"
     ]
    },
    {
     "data": {
      "text/html": [
       "<div>\n",
       "<style scoped>\n",
       "    .dataframe tbody tr th:only-of-type {\n",
       "        vertical-align: middle;\n",
       "    }\n",
       "\n",
       "    .dataframe tbody tr th {\n",
       "        vertical-align: top;\n",
       "    }\n",
       "\n",
       "    .dataframe thead th {\n",
       "        text-align: right;\n",
       "    }\n",
       "</style>\n",
       "<table border=\"1\" class=\"dataframe\">\n",
       "  <thead>\n",
       "    <tr style=\"text-align: right;\">\n",
       "      <th></th>\n",
       "      <th>County</th>\n",
       "      <th>ENROLLMENT</th>\n",
       "      <th>V_NUM</th>\n",
       "    </tr>\n",
       "  </thead>\n",
       "  <tbody>\n",
       "    <tr>\n",
       "      <th>0</th>\n",
       "      <td>Anderson</td>\n",
       "      <td>607.0</td>\n",
       "      <td>590.955274</td>\n",
       "    </tr>\n",
       "    <tr>\n",
       "      <th>1</th>\n",
       "      <td>Andrews</td>\n",
       "      <td>361.0</td>\n",
       "      <td>353.044077</td>\n",
       "    </tr>\n",
       "    <tr>\n",
       "      <th>2</th>\n",
       "      <td>Angelina</td>\n",
       "      <td>647.0</td>\n",
       "      <td>634.000000</td>\n",
       "    </tr>\n",
       "  </tbody>\n",
       "</table>\n",
       "</div>"
      ],
      "text/plain": [
       "     County  ENROLLMENT       V_NUM\n",
       "0  Anderson       607.0  590.955274\n",
       "1   Andrews       361.0  353.044077\n",
       "2  Angelina       647.0  634.000000"
      ]
     },
     "execution_count": 26,
     "metadata": {},
     "output_type": "execute_result"
    }
   ],
   "source": [
    "result = df_tx.groupby(['County'])['ENROLLMENT','V_NUM'].sum().reset_index()\n",
    "print(len(result))\n",
    "result.head(3)"
   ]
  },
  {
   "cell_type": "code",
   "execution_count": 28,
   "metadata": {},
   "outputs": [],
   "source": [
    "output_csv = folder + 'TX_NME' + '.csv'\n",
    "result.to_csv(output_csv, index=False, encoding='utf-8')"
   ]
  },
  {
   "cell_type": "markdown",
   "metadata": {},
   "source": [
    "## North Carolina (NC)\n",
    "100 counties"
   ]
  },
  {
   "cell_type": "code",
   "execution_count": 9,
   "metadata": {},
   "outputs": [
    {
     "name": "stdout",
     "output_type": "stream",
     "text": [
      "1871\n"
     ]
    },
    {
     "data": {
      "text/html": [
       "<div>\n",
       "<style scoped>\n",
       "    .dataframe tbody tr th:only-of-type {\n",
       "        vertical-align: middle;\n",
       "    }\n",
       "\n",
       "    .dataframe tbody tr th {\n",
       "        vertical-align: top;\n",
       "    }\n",
       "\n",
       "    .dataframe thead th {\n",
       "        text-align: right;\n",
       "    }\n",
       "</style>\n",
       "<table border=\"1\" class=\"dataframe\">\n",
       "  <thead>\n",
       "    <tr style=\"text-align: right;\">\n",
       "      <th></th>\n",
       "      <th>Name</th>\n",
       "      <th>VR</th>\n",
       "    </tr>\n",
       "  </thead>\n",
       "  <tbody>\n",
       "    <tr>\n",
       "      <th>0</th>\n",
       "      <td>Alamance</td>\n",
       "      <td>0.012</td>\n",
       "    </tr>\n",
       "    <tr>\n",
       "      <th>1</th>\n",
       "      <td>Clover Garden</td>\n",
       "      <td>0.000</td>\n",
       "    </tr>\n",
       "    <tr>\n",
       "      <th>2</th>\n",
       "      <td>River Mill Academy</td>\n",
       "      <td>0.000</td>\n",
       "    </tr>\n",
       "  </tbody>\n",
       "</table>\n",
       "</div>"
      ],
      "text/plain": [
       "                 Name     VR\n",
       "0            Alamance  0.012\n",
       "1       Clover Garden  0.000\n",
       "2  River Mill Academy  0.000"
      ]
     },
     "execution_count": 9,
     "metadata": {},
     "output_type": "execute_result"
    }
   ],
   "source": [
    "in_table = folder + r'NC\\NC_Converted.xlsx'\n",
    "df_ncvr = pd.read_excel(in_table,sheet_name='VR')\n",
    "print(len(df_ncvr))\n",
    "df_ncvr.head(3)"
   ]
  },
  {
   "cell_type": "code",
   "execution_count": 10,
   "metadata": {},
   "outputs": [
    {
     "name": "stdout",
     "output_type": "stream",
     "text": [
      "100\n"
     ]
    },
    {
     "data": {
      "text/html": [
       "<div>\n",
       "<style scoped>\n",
       "    .dataframe tbody tr th:only-of-type {\n",
       "        vertical-align: middle;\n",
       "    }\n",
       "\n",
       "    .dataframe tbody tr th {\n",
       "        vertical-align: top;\n",
       "    }\n",
       "\n",
       "    .dataframe thead th {\n",
       "        text-align: right;\n",
       "    }\n",
       "</style>\n",
       "<table border=\"1\" class=\"dataframe\">\n",
       "  <thead>\n",
       "    <tr style=\"text-align: right;\">\n",
       "      <th></th>\n",
       "      <th>FIPS</th>\n",
       "      <th>County</th>\n",
       "      <th>State</th>\n",
       "    </tr>\n",
       "  </thead>\n",
       "  <tbody>\n",
       "    <tr>\n",
       "      <th>0</th>\n",
       "      <td>37001</td>\n",
       "      <td>Alamance</td>\n",
       "      <td>NC</td>\n",
       "    </tr>\n",
       "    <tr>\n",
       "      <th>1</th>\n",
       "      <td>37003</td>\n",
       "      <td>Alexander</td>\n",
       "      <td>NC</td>\n",
       "    </tr>\n",
       "    <tr>\n",
       "      <th>2</th>\n",
       "      <td>37005</td>\n",
       "      <td>Alleghany</td>\n",
       "      <td>NC</td>\n",
       "    </tr>\n",
       "  </tbody>\n",
       "</table>\n",
       "</div>"
      ],
      "text/plain": [
       "    FIPS     County State\n",
       "0  37001   Alamance    NC\n",
       "1  37003  Alexander    NC\n",
       "2  37005  Alleghany    NC"
      ]
     },
     "execution_count": 10,
     "metadata": {},
     "output_type": "execute_result"
    }
   ],
   "source": [
    "df_nccnty = pd.read_excel(in_table,sheet_name='County')\n",
    "print(len(df_nccnty))\n",
    "df_nccnty.head(3)"
   ]
  },
  {
   "cell_type": "code",
   "execution_count": 11,
   "metadata": {},
   "outputs": [
    {
     "name": "stdout",
     "output_type": "stream",
     "text": [
      "100\n"
     ]
    },
    {
     "data": {
      "text/html": [
       "<div>\n",
       "<style scoped>\n",
       "    .dataframe tbody tr th:only-of-type {\n",
       "        vertical-align: middle;\n",
       "    }\n",
       "\n",
       "    .dataframe tbody tr th {\n",
       "        vertical-align: top;\n",
       "    }\n",
       "\n",
       "    .dataframe thead th {\n",
       "        text-align: right;\n",
       "    }\n",
       "</style>\n",
       "<table border=\"1\" class=\"dataframe\">\n",
       "  <thead>\n",
       "    <tr style=\"text-align: right;\">\n",
       "      <th></th>\n",
       "      <th>FIPS</th>\n",
       "      <th>County</th>\n",
       "      <th>State</th>\n",
       "      <th>Name</th>\n",
       "      <th>VR</th>\n",
       "    </tr>\n",
       "  </thead>\n",
       "  <tbody>\n",
       "    <tr>\n",
       "      <th>0</th>\n",
       "      <td>37001</td>\n",
       "      <td>Alamance</td>\n",
       "      <td>NC</td>\n",
       "      <td>Alamance</td>\n",
       "      <td>0.012</td>\n",
       "    </tr>\n",
       "    <tr>\n",
       "      <th>1</th>\n",
       "      <td>37003</td>\n",
       "      <td>Alexander</td>\n",
       "      <td>NC</td>\n",
       "      <td>Alexander</td>\n",
       "      <td>0.000</td>\n",
       "    </tr>\n",
       "    <tr>\n",
       "      <th>2</th>\n",
       "      <td>37005</td>\n",
       "      <td>Alleghany</td>\n",
       "      <td>NC</td>\n",
       "      <td>Alleghany</td>\n",
       "      <td>0.065</td>\n",
       "    </tr>\n",
       "  </tbody>\n",
       "</table>\n",
       "</div>"
      ],
      "text/plain": [
       "    FIPS     County State       Name     VR\n",
       "0  37001   Alamance    NC   Alamance  0.012\n",
       "1  37003  Alexander    NC  Alexander  0.000\n",
       "2  37005  Alleghany    NC  Alleghany  0.065"
      ]
     },
     "execution_count": 11,
     "metadata": {},
     "output_type": "execute_result"
    }
   ],
   "source": [
    "temp = pd.merge(df_nccnty, df_ncvr, how='left', left_on='County', right_on='Name')\n",
    "print(len(temp))\n",
    "temp.head(3)"
   ]
  },
  {
   "cell_type": "code",
   "execution_count": 12,
   "metadata": {},
   "outputs": [],
   "source": [
    "output_csv = folder + 'NC_NME' + '.csv'\n",
    "temp.to_csv(output_csv, index=False, encoding='utf-8')"
   ]
  },
  {
   "cell_type": "markdown",
   "metadata": {},
   "source": [
    "---\n",
    "# For all counties in the US"
   ]
  },
  {
   "cell_type": "markdown",
   "metadata": {},
   "source": [
    "## Get FIPS"
   ]
  },
  {
   "cell_type": "code",
   "execution_count": 149,
   "metadata": {},
   "outputs": [
    {
     "name": "stdout",
     "output_type": "stream",
     "text": [
      "2423\n"
     ]
    },
    {
     "data": {
      "text/html": [
       "<div>\n",
       "<style scoped>\n",
       "    .dataframe tbody tr th:only-of-type {\n",
       "        vertical-align: middle;\n",
       "    }\n",
       "\n",
       "    .dataframe tbody tr th {\n",
       "        vertical-align: top;\n",
       "    }\n",
       "\n",
       "    .dataframe thead th {\n",
       "        text-align: right;\n",
       "    }\n",
       "</style>\n",
       "<table border=\"1\" class=\"dataframe\">\n",
       "  <thead>\n",
       "    <tr style=\"text-align: right;\">\n",
       "      <th></th>\n",
       "      <th>code</th>\n",
       "      <th>County</th>\n",
       "      <th>State</th>\n",
       "      <th>VR</th>\n",
       "      <th>UVR</th>\n",
       "      <th>CountyName</th>\n",
       "    </tr>\n",
       "  </thead>\n",
       "  <tbody>\n",
       "    <tr>\n",
       "      <th>0</th>\n",
       "      <td>1001.0</td>\n",
       "      <td>Autauga</td>\n",
       "      <td>AL</td>\n",
       "      <td>0.9639</td>\n",
       "      <td>0.0361</td>\n",
       "      <td>Autauga, AL</td>\n",
       "    </tr>\n",
       "    <tr>\n",
       "      <th>1</th>\n",
       "      <td>1003.0</td>\n",
       "      <td>Baldwin</td>\n",
       "      <td>AL</td>\n",
       "      <td>0.9653</td>\n",
       "      <td>0.0347</td>\n",
       "      <td>Baldwin, AL</td>\n",
       "    </tr>\n",
       "    <tr>\n",
       "      <th>2</th>\n",
       "      <td>1005.0</td>\n",
       "      <td>Barbour</td>\n",
       "      <td>AL</td>\n",
       "      <td>0.8827</td>\n",
       "      <td>0.1173</td>\n",
       "      <td>Barbour, AL</td>\n",
       "    </tr>\n",
       "  </tbody>\n",
       "</table>\n",
       "</div>"
      ],
      "text/plain": [
       "     code   County State      VR     UVR   CountyName\n",
       "0  1001.0  Autauga    AL  0.9639  0.0361  Autauga, AL\n",
       "1  1003.0  Baldwin    AL  0.9653  0.0347  Baldwin, AL\n",
       "2  1005.0  Barbour    AL  0.8827  0.1173  Barbour, AL"
      ]
     },
     "execution_count": 149,
     "metadata": {},
     "output_type": "execute_result"
    }
   ],
   "source": [
    "in_table = folder + r'Data_VR.xlsx'\n",
    "df_vr = pd.read_excel(in_table,sheet_name='VR')\n",
    "print(len(df_vr))\n",
    "df_vr.head(3)"
   ]
  },
  {
   "cell_type": "code",
   "execution_count": 150,
   "metadata": {},
   "outputs": [
    {
     "name": "stdout",
     "output_type": "stream",
     "text": [
      "3142\n"
     ]
    },
    {
     "data": {
      "text/html": [
       "<div>\n",
       "<style scoped>\n",
       "    .dataframe tbody tr th:only-of-type {\n",
       "        vertical-align: middle;\n",
       "    }\n",
       "\n",
       "    .dataframe tbody tr th {\n",
       "        vertical-align: top;\n",
       "    }\n",
       "\n",
       "    .dataframe thead th {\n",
       "        text-align: right;\n",
       "    }\n",
       "</style>\n",
       "<table border=\"1\" class=\"dataframe\">\n",
       "  <thead>\n",
       "    <tr style=\"text-align: right;\">\n",
       "      <th></th>\n",
       "      <th>FIPS</th>\n",
       "      <th>CountyName</th>\n",
       "      <th>County</th>\n",
       "      <th>State</th>\n",
       "    </tr>\n",
       "  </thead>\n",
       "  <tbody>\n",
       "    <tr>\n",
       "      <th>0</th>\n",
       "      <td>1001</td>\n",
       "      <td>Autauga, AL</td>\n",
       "      <td>Autauga</td>\n",
       "      <td>AL</td>\n",
       "    </tr>\n",
       "    <tr>\n",
       "      <th>1</th>\n",
       "      <td>1003</td>\n",
       "      <td>Baldwin, AL</td>\n",
       "      <td>Baldwin</td>\n",
       "      <td>AL</td>\n",
       "    </tr>\n",
       "    <tr>\n",
       "      <th>2</th>\n",
       "      <td>1005</td>\n",
       "      <td>Barbour, AL</td>\n",
       "      <td>Barbour</td>\n",
       "      <td>AL</td>\n",
       "    </tr>\n",
       "  </tbody>\n",
       "</table>\n",
       "</div>"
      ],
      "text/plain": [
       "   FIPS   CountyName   County State\n",
       "0  1001  Autauga, AL  Autauga    AL\n",
       "1  1003  Baldwin, AL  Baldwin    AL\n",
       "2  1005  Barbour, AL  Barbour    AL"
      ]
     },
     "execution_count": 150,
     "metadata": {},
     "output_type": "execute_result"
    }
   ],
   "source": [
    "df_fips = pd.read_excel(in_table,sheet_name='FIPS')\n",
    "print(len(df_fips))\n",
    "df_fips.head(3)"
   ]
  },
  {
   "cell_type": "code",
   "execution_count": 151,
   "metadata": {},
   "outputs": [
    {
     "data": {
      "text/plain": [
       "13"
      ]
     },
     "execution_count": 151,
     "metadata": {},
     "output_type": "execute_result"
    }
   ],
   "source": [
    "len(set(df_fips['State']) - set(df_vr['State']))"
   ]
  },
  {
   "cell_type": "code",
   "execution_count": 152,
   "metadata": {},
   "outputs": [
    {
     "data": {
      "text/plain": [
       "{'AK', 'AR', 'DC', 'DE', 'HI', 'MO', 'MS', 'NE', 'NH', 'NV', 'OH', 'VA', 'WV'}"
      ]
     },
     "execution_count": 152,
     "metadata": {},
     "output_type": "execute_result"
    }
   ],
   "source": [
    "# missing data for these states:\n",
    "set(df_fips['State']) - set(df_vr['State'])"
   ]
  },
  {
   "cell_type": "code",
   "execution_count": 153,
   "metadata": {},
   "outputs": [
    {
     "name": "stdout",
     "output_type": "stream",
     "text": [
      "2423\n",
      "3137\n",
      "set()\n"
     ]
    }
   ],
   "source": [
    "print(len(set(df_vr['CountyName'])))\n",
    "print(len(set(df_fips['CountyName'])))\n",
    "print(set(df_vr['CountyName'])-set(df_fips['CountyName']))"
   ]
  },
  {
   "cell_type": "code",
   "execution_count": 154,
   "metadata": {},
   "outputs": [],
   "source": [
    "# 'Dade, FL', 'La Moure, ND', 'St Marys, MD', 'Lasalle, TX', \n",
    "# 'Weston, WY', 'Queen Annes, MD', 'Detroit, MI', 'La Porte, IN', \n",
    "# 'Gd Traverse, MI', 'Shannon, SD' -> Oglala Lakota, SD, 'Mclennan, TX', 'De Soto, FL', 'La Salle, LA', 'DeWitt, IL', 'Dona Ana, NM', \n",
    "# 'Mcmullen, TX', 'Mcculloch, TX', 'Prince Georges, MD', 'Dewitt, TX'\n",
    "# {'Larue, KY', 'La Moure, ND', 'Mccracken, KY', 'Mclean, KY', 'Detroit, MI', 'De Kalb, TN'}"
   ]
  },
  {
   "cell_type": "code",
   "execution_count": 155,
   "metadata": {},
   "outputs": [
    {
     "name": "stdout",
     "output_type": "stream",
     "text": [
      "2423\n"
     ]
    },
    {
     "data": {
      "text/html": [
       "<div>\n",
       "<style scoped>\n",
       "    .dataframe tbody tr th:only-of-type {\n",
       "        vertical-align: middle;\n",
       "    }\n",
       "\n",
       "    .dataframe tbody tr th {\n",
       "        vertical-align: top;\n",
       "    }\n",
       "\n",
       "    .dataframe thead th {\n",
       "        text-align: right;\n",
       "    }\n",
       "</style>\n",
       "<table border=\"1\" class=\"dataframe\">\n",
       "  <thead>\n",
       "    <tr style=\"text-align: right;\">\n",
       "      <th></th>\n",
       "      <th>code</th>\n",
       "      <th>County_x</th>\n",
       "      <th>State_x</th>\n",
       "      <th>VR</th>\n",
       "      <th>UVR</th>\n",
       "      <th>CountyName</th>\n",
       "      <th>FIPS</th>\n",
       "      <th>County_y</th>\n",
       "      <th>State_y</th>\n",
       "    </tr>\n",
       "  </thead>\n",
       "  <tbody>\n",
       "    <tr>\n",
       "      <th>0</th>\n",
       "      <td>1001.0</td>\n",
       "      <td>Autauga</td>\n",
       "      <td>AL</td>\n",
       "      <td>0.9639</td>\n",
       "      <td>0.0361</td>\n",
       "      <td>Autauga, AL</td>\n",
       "      <td>1001</td>\n",
       "      <td>Autauga</td>\n",
       "      <td>AL</td>\n",
       "    </tr>\n",
       "    <tr>\n",
       "      <th>1</th>\n",
       "      <td>1003.0</td>\n",
       "      <td>Baldwin</td>\n",
       "      <td>AL</td>\n",
       "      <td>0.9653</td>\n",
       "      <td>0.0347</td>\n",
       "      <td>Baldwin, AL</td>\n",
       "      <td>1003</td>\n",
       "      <td>Baldwin</td>\n",
       "      <td>AL</td>\n",
       "    </tr>\n",
       "    <tr>\n",
       "      <th>2</th>\n",
       "      <td>1005.0</td>\n",
       "      <td>Barbour</td>\n",
       "      <td>AL</td>\n",
       "      <td>0.8827</td>\n",
       "      <td>0.1173</td>\n",
       "      <td>Barbour, AL</td>\n",
       "      <td>1005</td>\n",
       "      <td>Barbour</td>\n",
       "      <td>AL</td>\n",
       "    </tr>\n",
       "  </tbody>\n",
       "</table>\n",
       "</div>"
      ],
      "text/plain": [
       "     code County_x State_x      VR     UVR   CountyName  FIPS County_y State_y\n",
       "0  1001.0  Autauga      AL  0.9639  0.0361  Autauga, AL  1001  Autauga      AL\n",
       "1  1003.0  Baldwin      AL  0.9653  0.0347  Baldwin, AL  1003  Baldwin      AL\n",
       "2  1005.0  Barbour      AL  0.8827  0.1173  Barbour, AL  1005  Barbour      AL"
      ]
     },
     "execution_count": 155,
     "metadata": {},
     "output_type": "execute_result"
    }
   ],
   "source": [
    "temp = pd.merge(df_vr, df_fips, how='left', on='CountyName')\n",
    "print(len(temp))\n",
    "temp.head(3)"
   ]
  },
  {
   "cell_type": "code",
   "execution_count": 158,
   "metadata": {},
   "outputs": [
    {
     "name": "stdout",
     "output_type": "stream",
     "text": [
      "3142\n",
      "3142\n"
     ]
    },
    {
     "data": {
      "text/html": [
       "<div>\n",
       "<style scoped>\n",
       "    .dataframe tbody tr th:only-of-type {\n",
       "        vertical-align: middle;\n",
       "    }\n",
       "\n",
       "    .dataframe tbody tr th {\n",
       "        vertical-align: top;\n",
       "    }\n",
       "\n",
       "    .dataframe thead th {\n",
       "        text-align: right;\n",
       "    }\n",
       "</style>\n",
       "<table border=\"1\" class=\"dataframe\">\n",
       "  <thead>\n",
       "    <tr style=\"text-align: right;\">\n",
       "      <th></th>\n",
       "      <th>FIPS</th>\n",
       "      <th>CountyName</th>\n",
       "      <th>County_x</th>\n",
       "      <th>State_x</th>\n",
       "      <th>code</th>\n",
       "      <th>County_y</th>\n",
       "      <th>State_y</th>\n",
       "      <th>VR</th>\n",
       "      <th>UVR</th>\n",
       "    </tr>\n",
       "  </thead>\n",
       "  <tbody>\n",
       "    <tr>\n",
       "      <th>0</th>\n",
       "      <td>1001</td>\n",
       "      <td>Autauga, AL</td>\n",
       "      <td>Autauga</td>\n",
       "      <td>AL</td>\n",
       "      <td>1001.0</td>\n",
       "      <td>Autauga</td>\n",
       "      <td>AL</td>\n",
       "      <td>0.9639</td>\n",
       "      <td>0.0361</td>\n",
       "    </tr>\n",
       "    <tr>\n",
       "      <th>1</th>\n",
       "      <td>1003</td>\n",
       "      <td>Baldwin, AL</td>\n",
       "      <td>Baldwin</td>\n",
       "      <td>AL</td>\n",
       "      <td>1003.0</td>\n",
       "      <td>Baldwin</td>\n",
       "      <td>AL</td>\n",
       "      <td>0.9653</td>\n",
       "      <td>0.0347</td>\n",
       "    </tr>\n",
       "    <tr>\n",
       "      <th>2</th>\n",
       "      <td>1005</td>\n",
       "      <td>Barbour, AL</td>\n",
       "      <td>Barbour</td>\n",
       "      <td>AL</td>\n",
       "      <td>1005.0</td>\n",
       "      <td>Barbour</td>\n",
       "      <td>AL</td>\n",
       "      <td>0.8827</td>\n",
       "      <td>0.1173</td>\n",
       "    </tr>\n",
       "  </tbody>\n",
       "</table>\n",
       "</div>"
      ],
      "text/plain": [
       "   FIPS   CountyName County_x State_x    code County_y State_y      VR     UVR\n",
       "0  1001  Autauga, AL  Autauga      AL  1001.0  Autauga      AL  0.9639  0.0361\n",
       "1  1003  Baldwin, AL  Baldwin      AL  1003.0  Baldwin      AL  0.9653  0.0347\n",
       "2  1005  Barbour, AL  Barbour      AL  1005.0  Barbour      AL  0.8827  0.1173"
      ]
     },
     "execution_count": 158,
     "metadata": {},
     "output_type": "execute_result"
    }
   ],
   "source": [
    "temp_all = pd.merge(df_fips, df_vr, how='left', on='CountyName')\n",
    "print(len(temp_all)) # must be the same as len(set(temp_all.FIPS))\n",
    "print(len(set(temp_all.FIPS)))\n",
    "temp_all.head(3)"
   ]
  },
  {
   "cell_type": "markdown",
   "metadata": {},
   "source": [
    "### add average VR for these states\n",
    "* CDC: https://www.cdc.gov/mmwr/volumes/68/wr/mm6841e1.htm"
   ]
  },
  {
   "cell_type": "code",
   "execution_count": 168,
   "metadata": {},
   "outputs": [
    {
     "name": "stdout",
     "output_type": "stream",
     "text": [
      "51\n"
     ]
    },
    {
     "data": {
      "text/html": [
       "<div>\n",
       "<style scoped>\n",
       "    .dataframe tbody tr th:only-of-type {\n",
       "        vertical-align: middle;\n",
       "    }\n",
       "\n",
       "    .dataframe tbody tr th {\n",
       "        vertical-align: top;\n",
       "    }\n",
       "\n",
       "    .dataframe thead th {\n",
       "        text-align: right;\n",
       "    }\n",
       "</style>\n",
       "<table border=\"1\" class=\"dataframe\">\n",
       "  <thead>\n",
       "    <tr style=\"text-align: right;\">\n",
       "      <th></th>\n",
       "      <th>State</th>\n",
       "      <th>Abbr</th>\n",
       "      <th>VR</th>\n",
       "      <th>UVR</th>\n",
       "    </tr>\n",
       "  </thead>\n",
       "  <tbody>\n",
       "    <tr>\n",
       "      <th>0</th>\n",
       "      <td>Alabama</td>\n",
       "      <td>AL</td>\n",
       "      <td>0.906</td>\n",
       "      <td>0.094</td>\n",
       "    </tr>\n",
       "    <tr>\n",
       "      <th>1</th>\n",
       "      <td>Alaska</td>\n",
       "      <td>AK</td>\n",
       "      <td>NaN</td>\n",
       "      <td>NaN</td>\n",
       "    </tr>\n",
       "    <tr>\n",
       "      <th>2</th>\n",
       "      <td>Arizona</td>\n",
       "      <td>AZ</td>\n",
       "      <td>0.929</td>\n",
       "      <td>0.071</td>\n",
       "    </tr>\n",
       "  </tbody>\n",
       "</table>\n",
       "</div>"
      ],
      "text/plain": [
       "     State Abbr     VR    UVR\n",
       "0  Alabama   AL  0.906  0.094\n",
       "1   Alaska   AK    NaN    NaN\n",
       "2  Arizona   AZ  0.929  0.071"
      ]
     },
     "execution_count": 168,
     "metadata": {},
     "output_type": "execute_result"
    }
   ],
   "source": [
    "df_ave = pd.read_excel(in_table,sheet_name='ave')\n",
    "print(len(df_ave))\n",
    "df_ave.head(3)"
   ]
  },
  {
   "cell_type": "code",
   "execution_count": 176,
   "metadata": {},
   "outputs": [],
   "source": [
    "vr_dic = pd.Series(df_ave.VR.values,index=df_ave.Abbr).to_dict()\n",
    "uvr_dic = pd.Series(df_ave.UVR.values,index=df_ave.Abbr).to_dict()"
   ]
  },
  {
   "cell_type": "code",
   "execution_count": 177,
   "metadata": {},
   "outputs": [
    {
     "data": {
      "text/plain": [
       "['DC', 'WV', 'OH', 'HI', 'NE', 'NV', 'MS', 'DE', 'MO', 'VA', 'NH', 'AR', 'AK']"
      ]
     },
     "execution_count": 177,
     "metadata": {},
     "output_type": "execute_result"
    }
   ],
   "source": [
    "list(set(df_fips['State']) - set(df_vr['State']))"
   ]
  },
  {
   "cell_type": "code",
   "execution_count": 178,
   "metadata": {},
   "outputs": [],
   "source": [
    "for i in list(set(df_fips['State']) - set(df_vr['State'])):\n",
    "    temp_all.loc[temp_all['State_x'] == i,'VR'] = vr_dic[i]\n",
    "    temp_all.loc[temp_all['State_x'] == i,'UVR'] = uvr_dic[i]"
   ]
  },
  {
   "cell_type": "code",
   "execution_count": 179,
   "metadata": {},
   "outputs": [
    {
     "data": {
      "text/html": [
       "<div>\n",
       "<style scoped>\n",
       "    .dataframe tbody tr th:only-of-type {\n",
       "        vertical-align: middle;\n",
       "    }\n",
       "\n",
       "    .dataframe tbody tr th {\n",
       "        vertical-align: top;\n",
       "    }\n",
       "\n",
       "    .dataframe thead th {\n",
       "        text-align: right;\n",
       "    }\n",
       "</style>\n",
       "<table border=\"1\" class=\"dataframe\">\n",
       "  <thead>\n",
       "    <tr style=\"text-align: right;\">\n",
       "      <th></th>\n",
       "      <th>FIPS</th>\n",
       "      <th>CountyName</th>\n",
       "      <th>County_x</th>\n",
       "      <th>State_x</th>\n",
       "      <th>code</th>\n",
       "      <th>County_y</th>\n",
       "      <th>State_y</th>\n",
       "      <th>VR</th>\n",
       "      <th>UVR</th>\n",
       "    </tr>\n",
       "  </thead>\n",
       "  <tbody>\n",
       "    <tr>\n",
       "      <th>1764</th>\n",
       "      <td>33001</td>\n",
       "      <td>Belknap, NH</td>\n",
       "      <td>Belknap</td>\n",
       "      <td>NH</td>\n",
       "      <td>NaN</td>\n",
       "      <td>NaN</td>\n",
       "      <td>NaN</td>\n",
       "      <td>0.918</td>\n",
       "      <td>0.082</td>\n",
       "    </tr>\n",
       "    <tr>\n",
       "      <th>1765</th>\n",
       "      <td>33003</td>\n",
       "      <td>Carroll, NH</td>\n",
       "      <td>Carroll</td>\n",
       "      <td>NH</td>\n",
       "      <td>NaN</td>\n",
       "      <td>NaN</td>\n",
       "      <td>NaN</td>\n",
       "      <td>0.918</td>\n",
       "      <td>0.082</td>\n",
       "    </tr>\n",
       "    <tr>\n",
       "      <th>1766</th>\n",
       "      <td>33005</td>\n",
       "      <td>Cheshire, NH</td>\n",
       "      <td>Cheshire</td>\n",
       "      <td>NH</td>\n",
       "      <td>NaN</td>\n",
       "      <td>NaN</td>\n",
       "      <td>NaN</td>\n",
       "      <td>0.918</td>\n",
       "      <td>0.082</td>\n",
       "    </tr>\n",
       "    <tr>\n",
       "      <th>1767</th>\n",
       "      <td>33007</td>\n",
       "      <td>Coos, NH</td>\n",
       "      <td>Coos</td>\n",
       "      <td>NH</td>\n",
       "      <td>NaN</td>\n",
       "      <td>NaN</td>\n",
       "      <td>NaN</td>\n",
       "      <td>0.918</td>\n",
       "      <td>0.082</td>\n",
       "    </tr>\n",
       "    <tr>\n",
       "      <th>1768</th>\n",
       "      <td>33009</td>\n",
       "      <td>Grafton, NH</td>\n",
       "      <td>Grafton</td>\n",
       "      <td>NH</td>\n",
       "      <td>NaN</td>\n",
       "      <td>NaN</td>\n",
       "      <td>NaN</td>\n",
       "      <td>0.918</td>\n",
       "      <td>0.082</td>\n",
       "    </tr>\n",
       "    <tr>\n",
       "      <th>1769</th>\n",
       "      <td>33011</td>\n",
       "      <td>Hillsborough, NH</td>\n",
       "      <td>Hillsborough</td>\n",
       "      <td>NH</td>\n",
       "      <td>NaN</td>\n",
       "      <td>NaN</td>\n",
       "      <td>NaN</td>\n",
       "      <td>0.918</td>\n",
       "      <td>0.082</td>\n",
       "    </tr>\n",
       "    <tr>\n",
       "      <th>1770</th>\n",
       "      <td>33013</td>\n",
       "      <td>Merrimack, NH</td>\n",
       "      <td>Merrimack</td>\n",
       "      <td>NH</td>\n",
       "      <td>NaN</td>\n",
       "      <td>NaN</td>\n",
       "      <td>NaN</td>\n",
       "      <td>0.918</td>\n",
       "      <td>0.082</td>\n",
       "    </tr>\n",
       "    <tr>\n",
       "      <th>1771</th>\n",
       "      <td>33015</td>\n",
       "      <td>Rockingham, NH</td>\n",
       "      <td>Rockingham</td>\n",
       "      <td>NH</td>\n",
       "      <td>NaN</td>\n",
       "      <td>NaN</td>\n",
       "      <td>NaN</td>\n",
       "      <td>0.918</td>\n",
       "      <td>0.082</td>\n",
       "    </tr>\n",
       "    <tr>\n",
       "      <th>1772</th>\n",
       "      <td>33017</td>\n",
       "      <td>Strafford, NH</td>\n",
       "      <td>Strafford</td>\n",
       "      <td>NH</td>\n",
       "      <td>NaN</td>\n",
       "      <td>NaN</td>\n",
       "      <td>NaN</td>\n",
       "      <td>0.918</td>\n",
       "      <td>0.082</td>\n",
       "    </tr>\n",
       "    <tr>\n",
       "      <th>1773</th>\n",
       "      <td>33019</td>\n",
       "      <td>Sullivan, NH</td>\n",
       "      <td>Sullivan</td>\n",
       "      <td>NH</td>\n",
       "      <td>NaN</td>\n",
       "      <td>NaN</td>\n",
       "      <td>NaN</td>\n",
       "      <td>0.918</td>\n",
       "      <td>0.082</td>\n",
       "    </tr>\n",
       "  </tbody>\n",
       "</table>\n",
       "</div>"
      ],
      "text/plain": [
       "       FIPS        CountyName      County_x State_x  code County_y State_y  \\\n",
       "1764  33001       Belknap, NH       Belknap      NH   NaN      NaN     NaN   \n",
       "1765  33003       Carroll, NH       Carroll      NH   NaN      NaN     NaN   \n",
       "1766  33005      Cheshire, NH      Cheshire      NH   NaN      NaN     NaN   \n",
       "1767  33007          Coos, NH          Coos      NH   NaN      NaN     NaN   \n",
       "1768  33009       Grafton, NH       Grafton      NH   NaN      NaN     NaN   \n",
       "1769  33011  Hillsborough, NH  Hillsborough      NH   NaN      NaN     NaN   \n",
       "1770  33013     Merrimack, NH     Merrimack      NH   NaN      NaN     NaN   \n",
       "1771  33015    Rockingham, NH    Rockingham      NH   NaN      NaN     NaN   \n",
       "1772  33017     Strafford, NH     Strafford      NH   NaN      NaN     NaN   \n",
       "1773  33019      Sullivan, NH      Sullivan      NH   NaN      NaN     NaN   \n",
       "\n",
       "         VR    UVR  \n",
       "1764  0.918  0.082  \n",
       "1765  0.918  0.082  \n",
       "1766  0.918  0.082  \n",
       "1767  0.918  0.082  \n",
       "1768  0.918  0.082  \n",
       "1769  0.918  0.082  \n",
       "1770  0.918  0.082  \n",
       "1771  0.918  0.082  \n",
       "1772  0.918  0.082  \n",
       "1773  0.918  0.082  "
      ]
     },
     "execution_count": 179,
     "metadata": {},
     "output_type": "execute_result"
    }
   ],
   "source": [
    "temp_all[temp_all['State_x']=='NH']"
   ]
  },
  {
   "cell_type": "code",
   "execution_count": 180,
   "metadata": {},
   "outputs": [],
   "source": [
    "output_csv = folder + 'Data_VR_AllCounties' + '.csv'\n",
    "temp_all.to_csv(output_csv, index=False, encoding='utf-8')"
   ]
  },
  {
   "cell_type": "markdown",
   "metadata": {},
   "source": [
    "## Old NME"
   ]
  },
  {
   "cell_type": "code",
   "execution_count": 181,
   "metadata": {},
   "outputs": [
    {
     "name": "stdout",
     "output_type": "stream",
     "text": [
      "3142\n"
     ]
    },
    {
     "data": {
      "text/html": [
       "<div>\n",
       "<style scoped>\n",
       "    .dataframe tbody tr th:only-of-type {\n",
       "        vertical-align: middle;\n",
       "    }\n",
       "\n",
       "    .dataframe tbody tr th {\n",
       "        vertical-align: top;\n",
       "    }\n",
       "\n",
       "    .dataframe thead th {\n",
       "        text-align: right;\n",
       "    }\n",
       "</style>\n",
       "<table border=\"1\" class=\"dataframe\">\n",
       "  <thead>\n",
       "    <tr style=\"text-align: right;\">\n",
       "      <th></th>\n",
       "      <th>County Name</th>\n",
       "      <th>State</th>\n",
       "      <th>FIPS</th>\n",
       "      <th>2015_NME</th>\n",
       "      <th>2016_NME</th>\n",
       "      <th>State_Avg_NME</th>\n",
       "      <th>Population</th>\n",
       "      <th>Static</th>\n",
       "      <th>Year2011</th>\n",
       "      <th>Year2012</th>\n",
       "      <th>Year2013</th>\n",
       "      <th>Year2014</th>\n",
       "      <th>Year2015</th>\n",
       "      <th>Year2016</th>\n",
       "      <th>Year2017</th>\n",
       "      <th>Year2018</th>\n",
       "      <th>Year2019</th>\n",
       "    </tr>\n",
       "  </thead>\n",
       "  <tbody>\n",
       "    <tr>\n",
       "      <th>0</th>\n",
       "      <td>Autauga</td>\n",
       "      <td>Alabama</td>\n",
       "      <td>1001</td>\n",
       "      <td>NaN</td>\n",
       "      <td>NaN</td>\n",
       "      <td>0.006</td>\n",
       "      <td>55504</td>\n",
       "      <td>0.0</td>\n",
       "      <td>0.0</td>\n",
       "      <td>0.0</td>\n",
       "      <td>0.0</td>\n",
       "      <td>0.0</td>\n",
       "      <td>0.0</td>\n",
       "      <td>0.0</td>\n",
       "      <td>0.0</td>\n",
       "      <td>0.0</td>\n",
       "      <td>0.0</td>\n",
       "    </tr>\n",
       "    <tr>\n",
       "      <th>1</th>\n",
       "      <td>Baldwin</td>\n",
       "      <td>Alabama</td>\n",
       "      <td>1003</td>\n",
       "      <td>NaN</td>\n",
       "      <td>NaN</td>\n",
       "      <td>0.006</td>\n",
       "      <td>212628</td>\n",
       "      <td>0.0</td>\n",
       "      <td>0.0</td>\n",
       "      <td>0.0</td>\n",
       "      <td>0.0</td>\n",
       "      <td>0.0</td>\n",
       "      <td>0.0</td>\n",
       "      <td>0.0</td>\n",
       "      <td>0.0</td>\n",
       "      <td>0.0</td>\n",
       "      <td>0.0</td>\n",
       "    </tr>\n",
       "    <tr>\n",
       "      <th>2</th>\n",
       "      <td>Barbour</td>\n",
       "      <td>Alabama</td>\n",
       "      <td>1005</td>\n",
       "      <td>NaN</td>\n",
       "      <td>NaN</td>\n",
       "      <td>0.006</td>\n",
       "      <td>25270</td>\n",
       "      <td>0.0</td>\n",
       "      <td>0.0</td>\n",
       "      <td>0.0</td>\n",
       "      <td>0.0</td>\n",
       "      <td>0.0</td>\n",
       "      <td>0.0</td>\n",
       "      <td>0.0</td>\n",
       "      <td>0.0</td>\n",
       "      <td>0.0</td>\n",
       "      <td>0.0</td>\n",
       "    </tr>\n",
       "    <tr>\n",
       "      <th>3</th>\n",
       "      <td>Bibb</td>\n",
       "      <td>Alabama</td>\n",
       "      <td>1007</td>\n",
       "      <td>NaN</td>\n",
       "      <td>NaN</td>\n",
       "      <td>0.006</td>\n",
       "      <td>22668</td>\n",
       "      <td>0.0</td>\n",
       "      <td>0.0</td>\n",
       "      <td>0.0</td>\n",
       "      <td>0.0</td>\n",
       "      <td>0.0</td>\n",
       "      <td>0.0</td>\n",
       "      <td>0.0</td>\n",
       "      <td>0.0</td>\n",
       "      <td>0.0</td>\n",
       "      <td>0.0</td>\n",
       "    </tr>\n",
       "    <tr>\n",
       "      <th>4</th>\n",
       "      <td>Blount</td>\n",
       "      <td>Alabama</td>\n",
       "      <td>1009</td>\n",
       "      <td>NaN</td>\n",
       "      <td>NaN</td>\n",
       "      <td>0.006</td>\n",
       "      <td>58013</td>\n",
       "      <td>0.0</td>\n",
       "      <td>0.0</td>\n",
       "      <td>0.0</td>\n",
       "      <td>0.0</td>\n",
       "      <td>0.0</td>\n",
       "      <td>0.0</td>\n",
       "      <td>0.0</td>\n",
       "      <td>0.0</td>\n",
       "      <td>0.0</td>\n",
       "      <td>0.0</td>\n",
       "    </tr>\n",
       "  </tbody>\n",
       "</table>\n",
       "</div>"
      ],
      "text/plain": [
       "  County Name    State  FIPS  2015_NME  2016_NME  State_Avg_NME  Population  \\\n",
       "0     Autauga  Alabama  1001       NaN       NaN          0.006       55504   \n",
       "1     Baldwin  Alabama  1003       NaN       NaN          0.006      212628   \n",
       "2     Barbour  Alabama  1005       NaN       NaN          0.006       25270   \n",
       "3        Bibb  Alabama  1007       NaN       NaN          0.006       22668   \n",
       "4      Blount  Alabama  1009       NaN       NaN          0.006       58013   \n",
       "\n",
       "    Static  Year2011  Year2012  Year2013  Year2014  Year2015  Year2016  \\\n",
       "0      0.0       0.0       0.0       0.0       0.0       0.0       0.0   \n",
       "1      0.0       0.0       0.0       0.0       0.0       0.0       0.0   \n",
       "2      0.0       0.0       0.0       0.0       0.0       0.0       0.0   \n",
       "3      0.0       0.0       0.0       0.0       0.0       0.0       0.0   \n",
       "4      0.0       0.0       0.0       0.0       0.0       0.0       0.0   \n",
       "\n",
       "   Year2017  Year2018  Year2019  \n",
       "0       0.0       0.0       0.0  \n",
       "1       0.0       0.0       0.0  \n",
       "2       0.0       0.0       0.0  \n",
       "3       0.0       0.0       0.0  \n",
       "4       0.0       0.0       0.0  "
      ]
     },
     "execution_count": 181,
     "metadata": {},
     "output_type": "execute_result"
    }
   ],
   "source": [
    "in_table = r'C:\\Users\\Ensheng\\Desktop\\mapping\\diffusion_model\\ModelInputOutputAll 4_23.csv'\n",
    "df_nme = pd.read_csv(in_table)\n",
    "print(len(df_nme))\n",
    "df_nme.head(5)"
   ]
  },
  {
   "cell_type": "code",
   "execution_count": 182,
   "metadata": {},
   "outputs": [
    {
     "data": {
      "text/plain": [
       "set()"
      ]
     },
     "execution_count": 182,
     "metadata": {},
     "output_type": "execute_result"
    }
   ],
   "source": [
    "set(temp_all['FIPS']) - set(df_nme['FIPS'])"
   ]
  },
  {
   "cell_type": "code",
   "execution_count": 184,
   "metadata": {},
   "outputs": [
    {
     "data": {
      "text/plain": [
       "set()"
      ]
     },
     "execution_count": 184,
     "metadata": {},
     "output_type": "execute_result"
    }
   ],
   "source": [
    "set(df_nme['FIPS']) - set(temp_all['FIPS'])"
   ]
  },
  {
   "cell_type": "code",
   "execution_count": 185,
   "metadata": {},
   "outputs": [],
   "source": [
    "df_nme['County'] = df_nme['County Name'] + ', ' + df_nme['State']"
   ]
  },
  {
   "cell_type": "code",
   "execution_count": 186,
   "metadata": {},
   "outputs": [],
   "source": [
    "df_nme.loc[df_nme[\"2016_NME\"].notnull(), 'FIPS_NME'] = df_nme['2016_NME']\n",
    "df_nme.loc[(df_nme[\"FIPS_NME\"].isnull()) & (df_nme[\"2015_NME\"].notnull()), 'FIPS_NME'] = df_nme['2015_NME']\n",
    "df_nme.loc[(df_nme[\"FIPS_NME\"].isnull()) & (df_nme[\"State_Avg_NME\"].notnull()), 'FIPS_NME'] = df_nme['State_Avg_NME']"
   ]
  },
  {
   "cell_type": "code",
   "execution_count": 188,
   "metadata": {},
   "outputs": [],
   "source": [
    "# df_nme = df_nme[['FIPS','County','2016_NME','2015_NME','State_Avg_NME','FIPS_NME','Population']]\n",
    "# print(\"No NME for the following counties:\")\n",
    "# df_nme.loc[df_nme['FIPS_NME'].isnull()]"
   ]
  },
  {
   "cell_type": "code",
   "execution_count": 8,
   "metadata": {},
   "outputs": [],
   "source": [
    "output_csv = folder + 'old_NME' + '.csv'\n",
    "df_nme.to_csv(output_csv, index=False, encoding='utf-8')"
   ]
  },
  {
   "cell_type": "markdown",
   "metadata": {},
   "source": [
    "### Add Old NME"
   ]
  },
  {
   "cell_type": "code",
   "execution_count": 192,
   "metadata": {},
   "outputs": [
    {
     "name": "stdout",
     "output_type": "stream",
     "text": [
      "3142\n"
     ]
    },
    {
     "data": {
      "text/html": [
       "<div>\n",
       "<style scoped>\n",
       "    .dataframe tbody tr th:only-of-type {\n",
       "        vertical-align: middle;\n",
       "    }\n",
       "\n",
       "    .dataframe tbody tr th {\n",
       "        vertical-align: top;\n",
       "    }\n",
       "\n",
       "    .dataframe thead th {\n",
       "        text-align: right;\n",
       "    }\n",
       "</style>\n",
       "<table border=\"1\" class=\"dataframe\">\n",
       "  <thead>\n",
       "    <tr style=\"text-align: right;\">\n",
       "      <th></th>\n",
       "      <th>FIPS</th>\n",
       "      <th>CountyName</th>\n",
       "      <th>County_x</th>\n",
       "      <th>State_x</th>\n",
       "      <th>code</th>\n",
       "      <th>County_y</th>\n",
       "      <th>State_y</th>\n",
       "      <th>VR</th>\n",
       "      <th>UVR</th>\n",
       "      <th>County</th>\n",
       "      <th>2016_NME</th>\n",
       "      <th>2015_NME</th>\n",
       "      <th>State_Avg_NME</th>\n",
       "      <th>FIPS_NME</th>\n",
       "      <th>Population</th>\n",
       "    </tr>\n",
       "  </thead>\n",
       "  <tbody>\n",
       "    <tr>\n",
       "      <th>0</th>\n",
       "      <td>1001</td>\n",
       "      <td>Autauga, AL</td>\n",
       "      <td>Autauga</td>\n",
       "      <td>AL</td>\n",
       "      <td>1001.0</td>\n",
       "      <td>Autauga</td>\n",
       "      <td>AL</td>\n",
       "      <td>0.9639</td>\n",
       "      <td>0.0361</td>\n",
       "      <td>Autauga, Alabama</td>\n",
       "      <td>NaN</td>\n",
       "      <td>NaN</td>\n",
       "      <td>0.006</td>\n",
       "      <td>0.006</td>\n",
       "      <td>55504</td>\n",
       "    </tr>\n",
       "    <tr>\n",
       "      <th>1</th>\n",
       "      <td>1003</td>\n",
       "      <td>Baldwin, AL</td>\n",
       "      <td>Baldwin</td>\n",
       "      <td>AL</td>\n",
       "      <td>1003.0</td>\n",
       "      <td>Baldwin</td>\n",
       "      <td>AL</td>\n",
       "      <td>0.9653</td>\n",
       "      <td>0.0347</td>\n",
       "      <td>Baldwin, Alabama</td>\n",
       "      <td>NaN</td>\n",
       "      <td>NaN</td>\n",
       "      <td>0.006</td>\n",
       "      <td>0.006</td>\n",
       "      <td>212628</td>\n",
       "    </tr>\n",
       "    <tr>\n",
       "      <th>2</th>\n",
       "      <td>1005</td>\n",
       "      <td>Barbour, AL</td>\n",
       "      <td>Barbour</td>\n",
       "      <td>AL</td>\n",
       "      <td>1005.0</td>\n",
       "      <td>Barbour</td>\n",
       "      <td>AL</td>\n",
       "      <td>0.8827</td>\n",
       "      <td>0.1173</td>\n",
       "      <td>Barbour, Alabama</td>\n",
       "      <td>NaN</td>\n",
       "      <td>NaN</td>\n",
       "      <td>0.006</td>\n",
       "      <td>0.006</td>\n",
       "      <td>25270</td>\n",
       "    </tr>\n",
       "  </tbody>\n",
       "</table>\n",
       "</div>"
      ],
      "text/plain": [
       "   FIPS   CountyName County_x State_x    code County_y State_y      VR  \\\n",
       "0  1001  Autauga, AL  Autauga      AL  1001.0  Autauga      AL  0.9639   \n",
       "1  1003  Baldwin, AL  Baldwin      AL  1003.0  Baldwin      AL  0.9653   \n",
       "2  1005  Barbour, AL  Barbour      AL  1005.0  Barbour      AL  0.8827   \n",
       "\n",
       "      UVR            County  2016_NME  2015_NME  State_Avg_NME  FIPS_NME  \\\n",
       "0  0.0361  Autauga, Alabama       NaN       NaN          0.006     0.006   \n",
       "1  0.0347  Baldwin, Alabama       NaN       NaN          0.006     0.006   \n",
       "2  0.1173  Barbour, Alabama       NaN       NaN          0.006     0.006   \n",
       "\n",
       "   Population  \n",
       "0       55504  \n",
       "1      212628  \n",
       "2       25270  "
      ]
     },
     "execution_count": 192,
     "metadata": {},
     "output_type": "execute_result"
    }
   ],
   "source": [
    "result = pd.merge(temp_all, df_nme, how='left', on='FIPS')\n",
    "print(len(temp))\n",
    "result.head(3)"
   ]
  },
  {
   "cell_type": "code",
   "execution_count": 193,
   "metadata": {},
   "outputs": [],
   "source": [
    "output_csv = folder + 'Data_VR_AllCounties' + '.csv'\n",
    "result.to_csv(output_csv, index=False, encoding='utf-8')"
   ]
  }
 ],
 "metadata": {
  "kernelspec": {
   "display_name": "Python 3",
   "language": "python",
   "name": "python3"
  },
  "language_info": {
   "codemirror_mode": {
    "name": "ipython",
    "version": 3
   },
   "file_extension": ".py",
   "mimetype": "text/x-python",
   "name": "python",
   "nbconvert_exporter": "python",
   "pygments_lexer": "ipython3",
   "version": "3.6.8"
  }
 },
 "nbformat": 4,
 "nbformat_minor": 2
}
