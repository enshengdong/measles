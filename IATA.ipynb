{
 "cells": [
  {
   "cell_type": "markdown",
   "metadata": {},
   "source": [
    "# IATA"
   ]
  },
  {
   "cell_type": "markdown",
   "metadata": {},
   "source": [
    "### replace countries names"
   ]
  },
  {
   "cell_type": "code",
   "execution_count": 1,
   "metadata": {},
   "outputs": [],
   "source": [
    "import pandas as pd"
   ]
  },
  {
   "cell_type": "code",
   "execution_count": 22,
   "metadata": {},
   "outputs": [
    {
     "name": "stdout",
     "output_type": "stream",
     "text": [
      "370975\n"
     ]
    },
    {
     "data": {
      "text/html": [
       "<div>\n",
       "<style scoped>\n",
       "    .dataframe tbody tr th:only-of-type {\n",
       "        vertical-align: middle;\n",
       "    }\n",
       "\n",
       "    .dataframe tbody tr th {\n",
       "        vertical-align: top;\n",
       "    }\n",
       "\n",
       "    .dataframe thead th {\n",
       "        text-align: right;\n",
       "    }\n",
       "</style>\n",
       "<table border=\"1\" class=\"dataframe\">\n",
       "  <thead>\n",
       "    <tr style=\"text-align: right;\">\n",
       "      <th></th>\n",
       "      <th>year</th>\n",
       "      <th>originCountryId</th>\n",
       "      <th>originCountryName</th>\n",
       "      <th>destinationAirportName</th>\n",
       "      <th>destinationAirportCode</th>\n",
       "      <th>destinationAirportId</th>\n",
       "      <th>destination_state</th>\n",
       "      <th>destination_county</th>\n",
       "      <th>destination_countyDetailed</th>\n",
       "      <th>paxVolume</th>\n",
       "    </tr>\n",
       "  </thead>\n",
       "  <tbody>\n",
       "    <tr>\n",
       "      <th>0</th>\n",
       "      <td>2007</td>\n",
       "      <td>73</td>\n",
       "      <td>United Kingdom</td>\n",
       "      <td>Naval Outlying Field Barin</td>\n",
       "      <td>NHX</td>\n",
       "      <td>3225</td>\n",
       "      <td>Alabama</td>\n",
       "      <td>Baldwin</td>\n",
       "      <td>Baldwin County</td>\n",
       "      <td>3</td>\n",
       "    </tr>\n",
       "    <tr>\n",
       "      <th>1</th>\n",
       "      <td>2007</td>\n",
       "      <td>101</td>\n",
       "      <td>Italy</td>\n",
       "      <td>Muscle Shoals Regional Airport</td>\n",
       "      <td>MSL</td>\n",
       "      <td>3210</td>\n",
       "      <td>Alabama</td>\n",
       "      <td>Colbert</td>\n",
       "      <td>Colbert County</td>\n",
       "      <td>1</td>\n",
       "    </tr>\n",
       "    <tr>\n",
       "      <th>2</th>\n",
       "      <td>2007</td>\n",
       "      <td>102</td>\n",
       "      <td>Jamaica</td>\n",
       "      <td>Muscle Shoals Regional Airport</td>\n",
       "      <td>MSL</td>\n",
       "      <td>3210</td>\n",
       "      <td>Alabama</td>\n",
       "      <td>Colbert</td>\n",
       "      <td>Colbert County</td>\n",
       "      <td>75</td>\n",
       "    </tr>\n",
       "    <tr>\n",
       "      <th>3</th>\n",
       "      <td>2007</td>\n",
       "      <td>103</td>\n",
       "      <td>Jordan</td>\n",
       "      <td>Muscle Shoals Regional Airport</td>\n",
       "      <td>MSL</td>\n",
       "      <td>3210</td>\n",
       "      <td>Alabama</td>\n",
       "      <td>Colbert</td>\n",
       "      <td>Colbert County</td>\n",
       "      <td>2</td>\n",
       "    </tr>\n",
       "    <tr>\n",
       "      <th>4</th>\n",
       "      <td>2007</td>\n",
       "      <td>104</td>\n",
       "      <td>Japan</td>\n",
       "      <td>Muscle Shoals Regional Airport</td>\n",
       "      <td>MSL</td>\n",
       "      <td>3210</td>\n",
       "      <td>Alabama</td>\n",
       "      <td>Colbert</td>\n",
       "      <td>Colbert County</td>\n",
       "      <td>2</td>\n",
       "    </tr>\n",
       "  </tbody>\n",
       "</table>\n",
       "</div>"
      ],
      "text/plain": [
       "   year  originCountryId originCountryName          destinationAirportName  \\\n",
       "0  2007               73    United Kingdom      Naval Outlying Field Barin   \n",
       "1  2007              101             Italy  Muscle Shoals Regional Airport   \n",
       "2  2007              102           Jamaica  Muscle Shoals Regional Airport   \n",
       "3  2007              103            Jordan  Muscle Shoals Regional Airport   \n",
       "4  2007              104             Japan  Muscle Shoals Regional Airport   \n",
       "\n",
       "  destinationAirportCode  destinationAirportId destination_state  \\\n",
       "0                    NHX                  3225           Alabama   \n",
       "1                    MSL                  3210           Alabama   \n",
       "2                    MSL                  3210           Alabama   \n",
       "3                    MSL                  3210           Alabama   \n",
       "4                    MSL                  3210           Alabama   \n",
       "\n",
       "  destination_county destination_countyDetailed  paxVolume  \n",
       "0            Baldwin             Baldwin County          3  \n",
       "1            Colbert             Colbert County          1  \n",
       "2            Colbert             Colbert County         75  \n",
       "3            Colbert             Colbert County          2  \n",
       "4            Colbert             Colbert County          2  "
      ]
     },
     "execution_count": 22,
     "metadata": {},
     "output_type": "execute_result"
    }
   ],
   "source": [
    "folder = r'C:\\Users\\Ensheng\\Desktop\\mapping\\IATA\\\\'\n",
    "in_table = folder + 'IATA_country_USairport_county_07_17.csv'\n",
    "df = pd.read_csv(in_table)\n",
    "print(len(df))\n",
    "df.head(5)"
   ]
  },
  {
   "cell_type": "code",
   "execution_count": 23,
   "metadata": {},
   "outputs": [],
   "source": [
    "df['originRegion'] = df['originCountryName'].replace({\n",
    "    'Ã…land': 'Aland',\n",
    "    'Antigua-Barbuda': 'Antigua and Barbuda',\n",
    "    'Bahamas': 'The Bahamas',\n",
    "    'Bonaire, Saint Eustatius and Saba': 'Caribbean Netherlands',\n",
    "    'Bosnia-Herzegovina': 'Bosnia and Herzegovina',\n",
    "    'Brunei Darussalam': 'Brunei',\n",
    "    'Central African Rep': 'Central African Republic',\n",
    "    #'Christmas Island': '',\n",
    "    'Congo (Brazzaville)': 'Republic of Congo',\n",
    "    'Congo (Kinshasa)': 'Democratic Republic of the Congo',\n",
    "    'Cote D\\'Ivoire': 'Ivory Coast',\n",
    "    'Curacao': 'Curacao',\n",
    "    'Dominican Rep': 'Dominican Republic',\n",
    "    #'French Guiana': '',\n",
    "    #'Gibraltar': '',\n",
    "    #'Guadeloupe': '',\n",
    "    'Guinea-Bissau': 'Guinea Bissau',\n",
    "    'Hong Kong (SAR)': 'Hong Kong S.A.R.',\n",
    "    'Korea (North)': 'North Korea',\n",
    "    'Korea (South)': 'South Korea',\n",
    "    'Macao (SAR)': 'Macao S.A.R',\n",
    "    #'Martinique': '',\n",
    "    #'Mayotte': '',\n",
    "    'Micronesia': 'Federated States of Micronesia',\n",
    "    'Netherlands Antilles (obsolete)': 'Netherlands Antilles',\n",
    "    'North Mariana Isl': 'Northern Mariana Islands',\n",
    "    #'Reunion': '',\n",
    "    'Sao Tome-Principe': 'Sao Tome and Principe',\n",
    "    'Serbia': 'Republic of Serbia',\n",
    "    'St Barthelemy': 'Saint Barthelemy',\n",
    "    'St Kitts-Nevis': 'Saint Kitts and Nevis',\n",
    "    'St Lucia': 'Saint Lucia',\n",
    "    'St Maarten (Dutch Part)': 'Sint Maarten',\n",
    "    'St Martin': 'Saint Martin',\n",
    "    'St Pierre-Miquelon': 'Saint Pierre and Miquelon',\n",
    "    'St Vincent-Grenad': 'Saint Vincent and the Grenadines',\n",
    "    #'Svalbard': '',\n",
    "    #'Timor-leste': '',\n",
    "    'Trinidad-Tobago': 'Trinidad and Tobago',\n",
    "    'Turks-Caicos': 'Turks and Caicos Islands',\n",
    "    #'Tuvalu': '',\n",
    "    'Viet Nam': 'Vietnam',\n",
    "    'Virgin Islands (GB)': 'British Virgin Islands',\n",
    "    'Virgin Islands (US)': 'United States Virgin Islands',\n",
    "    'Wallis-Futuna Isl': 'Wallis and Futuna'})"
   ]
  },
  {
   "cell_type": "code",
   "execution_count": 7,
   "metadata": {},
   "outputs": [
    {
     "name": "stdout",
     "output_type": "stream",
     "text": [
      "253\n"
     ]
    },
    {
     "data": {
      "text/html": [
       "<div>\n",
       "<style scoped>\n",
       "    .dataframe tbody tr th:only-of-type {\n",
       "        vertical-align: middle;\n",
       "    }\n",
       "\n",
       "    .dataframe tbody tr th {\n",
       "        vertical-align: top;\n",
       "    }\n",
       "\n",
       "    .dataframe thead th {\n",
       "        text-align: right;\n",
       "    }\n",
       "</style>\n",
       "<table border=\"1\" class=\"dataframe\">\n",
       "  <thead>\n",
       "    <tr style=\"text-align: right;\">\n",
       "      <th></th>\n",
       "      <th>Country</th>\n",
       "      <th>ISO</th>\n",
       "      <th>Origin_X</th>\n",
       "      <th>Origin_Y</th>\n",
       "    </tr>\n",
       "  </thead>\n",
       "  <tbody>\n",
       "    <tr>\n",
       "      <th>0</th>\n",
       "      <td>Afghanistan</td>\n",
       "      <td>AFG</td>\n",
       "      <td>66.004734</td>\n",
       "      <td>33.835231</td>\n",
       "    </tr>\n",
       "    <tr>\n",
       "      <th>1</th>\n",
       "      <td>Aland</td>\n",
       "      <td>ALD</td>\n",
       "      <td>19.953288</td>\n",
       "      <td>60.214887</td>\n",
       "    </tr>\n",
       "    <tr>\n",
       "      <th>2</th>\n",
       "      <td>Albania</td>\n",
       "      <td>ALB</td>\n",
       "      <td>20.049834</td>\n",
       "      <td>41.142450</td>\n",
       "    </tr>\n",
       "    <tr>\n",
       "      <th>3</th>\n",
       "      <td>Algeria</td>\n",
       "      <td>DZA</td>\n",
       "      <td>2.617323</td>\n",
       "      <td>28.158938</td>\n",
       "    </tr>\n",
       "    <tr>\n",
       "      <th>4</th>\n",
       "      <td>American Samoa</td>\n",
       "      <td>ASM</td>\n",
       "      <td>-170.718026</td>\n",
       "      <td>-14.304460</td>\n",
       "    </tr>\n",
       "  </tbody>\n",
       "</table>\n",
       "</div>"
      ],
      "text/plain": [
       "          Country  ISO    Origin_X   Origin_Y\n",
       "0     Afghanistan  AFG   66.004734  33.835231\n",
       "1           Aland  ALD   19.953288  60.214887\n",
       "2         Albania  ALB   20.049834  41.142450\n",
       "3         Algeria  DZA    2.617323  28.158938\n",
       "4  American Samoa  ASM -170.718026 -14.304460"
      ]
     },
     "execution_count": 7,
     "metadata": {},
     "output_type": "execute_result"
    }
   ],
   "source": [
    "in_table = folder + 'origin_XY.csv'\n",
    "odf = pd.read_csv(in_table)\n",
    "print(len(odf))\n",
    "odf.head(5)"
   ]
  },
  {
   "cell_type": "code",
   "execution_count": 32,
   "metadata": {},
   "outputs": [
    {
     "name": "stdout",
     "output_type": "stream",
     "text": [
      "932\n"
     ]
    },
    {
     "data": {
      "text/html": [
       "<div>\n",
       "<style scoped>\n",
       "    .dataframe tbody tr th:only-of-type {\n",
       "        vertical-align: middle;\n",
       "    }\n",
       "\n",
       "    .dataframe tbody tr th {\n",
       "        vertical-align: top;\n",
       "    }\n",
       "\n",
       "    .dataframe thead th {\n",
       "        text-align: right;\n",
       "    }\n",
       "</style>\n",
       "<table border=\"1\" class=\"dataframe\">\n",
       "  <thead>\n",
       "    <tr style=\"text-align: right;\">\n",
       "      <th></th>\n",
       "      <th>IATA</th>\n",
       "      <th>DESTINATION_X</th>\n",
       "      <th>DESTINATION_Y</th>\n",
       "    </tr>\n",
       "  </thead>\n",
       "  <tbody>\n",
       "    <tr>\n",
       "      <th>0</th>\n",
       "      <td>0AK</td>\n",
       "      <td>-162.899579</td>\n",
       "      <td>61.934555</td>\n",
       "    </tr>\n",
       "    <tr>\n",
       "      <th>1</th>\n",
       "      <td>0B8</td>\n",
       "      <td>-72.031612</td>\n",
       "      <td>41.251316</td>\n",
       "    </tr>\n",
       "    <tr>\n",
       "      <th>2</th>\n",
       "      <td>0R3</td>\n",
       "      <td>-92.084228</td>\n",
       "      <td>29.975783</td>\n",
       "    </tr>\n",
       "    <tr>\n",
       "      <th>3</th>\n",
       "      <td>0S9</td>\n",
       "      <td>-122.810659</td>\n",
       "      <td>48.053815</td>\n",
       "    </tr>\n",
       "    <tr>\n",
       "      <th>4</th>\n",
       "      <td>16A</td>\n",
       "      <td>-162.440613</td>\n",
       "      <td>60.906011</td>\n",
       "    </tr>\n",
       "  </tbody>\n",
       "</table>\n",
       "</div>"
      ],
      "text/plain": [
       "  IATA  DESTINATION_X  DESTINATION_Y\n",
       "0  0AK    -162.899579      61.934555\n",
       "1  0B8     -72.031612      41.251316\n",
       "2  0R3     -92.084228      29.975783\n",
       "3  0S9    -122.810659      48.053815\n",
       "4  16A    -162.440613      60.906011"
      ]
     },
     "execution_count": 32,
     "metadata": {},
     "output_type": "execute_result"
    }
   ],
   "source": [
    "# Note: remove IATA duplicates in the tables 954->932\n",
    "in_table = folder + 'destination_XY.csv'\n",
    "ddf = pd.read_csv(in_table)\n",
    "print(len(ddf))\n",
    "ddf.head(5)"
   ]
  },
  {
   "cell_type": "code",
   "execution_count": 33,
   "metadata": {},
   "outputs": [
    {
     "data": {
      "text/plain": [
       "370975"
      ]
     },
     "execution_count": 33,
     "metadata": {},
     "output_type": "execute_result"
    }
   ],
   "source": [
    "result = pd.merge(df, odf, how='left', left_on='originRegion',right_on='Country')\n",
    "len(result)"
   ]
  },
  {
   "cell_type": "code",
   "execution_count": 34,
   "metadata": {},
   "outputs": [
    {
     "data": {
      "text/plain": [
       "370975"
      ]
     },
     "execution_count": 34,
     "metadata": {},
     "output_type": "execute_result"
    }
   ],
   "source": [
    "result = pd.merge(result, ddf, how='left', left_on='destinationAirportCode',right_on='IATA')\n",
    "len(result)"
   ]
  },
  {
   "cell_type": "code",
   "execution_count": 35,
   "metadata": {},
   "outputs": [],
   "source": [
    "# output as a csv table\n",
    "output_csv = folder + 'flow_XY.csv'\n",
    "result.to_csv(output_csv,index = False,encoding='utf-8')"
   ]
  }
 ],
 "metadata": {
  "kernelspec": {
   "display_name": "Python 3",
   "language": "python",
   "name": "python3"
  },
  "language_info": {
   "codemirror_mode": {
    "name": "ipython",
    "version": 3
   },
   "file_extension": ".py",
   "mimetype": "text/x-python",
   "name": "python",
   "nbconvert_exporter": "python",
   "pygments_lexer": "ipython3",
   "version": "3.6.6"
  }
 },
 "nbformat": 4,
 "nbformat_minor": 2
}
